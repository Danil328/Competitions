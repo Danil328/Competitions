{
 "cells": [
  {
   "cell_type": "code",
   "execution_count": 1,
   "metadata": {},
   "outputs": [],
   "source": [
    "model_name = 'baseline_sparse'\n",
    "data_dir = './data/mlboot_dataset/'\n",
    "import pandas as pd\n",
    "import numpy as np\n",
    "from sklearn.model_selection import KFold\n",
    "from sklearn.metrics import roc_auc_score\n",
    "import lightgbm as lgb\n",
    "import scipy.sparse as sp"
   ]
  },
  {
   "cell_type": "code",
   "execution_count": 2,
   "metadata": {},
   "outputs": [],
   "source": [
    "mat3 = sp.load_npz(data_dir+'mat1.npz').tolil()"
   ]
  },
  {
   "cell_type": "code",
   "execution_count": 3,
   "metadata": {},
   "outputs": [],
   "source": [
    "df = pd.read_csv(data_dir + 'preprocessed.csv') \n",
    "y = pd.read_table(data_dir + 'mlboot_train_answers.tsv')\n",
    "y.columns = ['uid','target']\n",
    "df = df.merge(y, on='uid', how='left')\n",
    "df_train_index = df[~df.target.isnull()].index\n",
    "df_test_index = df[df.target.isnull()].index"
   ]
  },
  {
   "cell_type": "code",
   "execution_count": 4,
   "metadata": {},
   "outputs": [
    {
     "data": {
      "text/plain": [
       "96"
      ]
     },
     "execution_count": 4,
     "metadata": {},
     "output_type": "execute_result"
    }
   ],
   "source": [
    "mat3.tocsr()[df_train_index.tolist()].max()"
   ]
  },
  {
   "cell_type": "code",
   "execution_count": null,
   "metadata": {},
   "outputs": [],
   "source": []
  },
  {
   "cell_type": "code",
   "execution_count": 9,
   "metadata": {},
   "outputs": [],
   "source": [
    "df = pd.read_csv(data_dir + 'preprocessed.csv') \n",
    "y = pd.read_table(data_dir + 'mlboot_train_answers.tsv')\n",
    "y.columns = ['uid','target']\n",
    "df = df.merge(y, on='uid', how='left')\n",
    "\n",
    "mat1 = sp.load_npz(data_dir+'dmat1.npz').tolil()\n",
    "mat2 = sp.load_npz(data_dir+'dmat2.npz').tolil()\n",
    "mat3 = sp.load_npz(data_dir+'dmat3.npz').tolil()"
   ]
  },
  {
   "cell_type": "code",
   "execution_count": 10,
   "metadata": {},
   "outputs": [],
   "source": [
    "df_train_index = df[~df.target.isnull()].index\n",
    "df_test_index = df[df.target.isnull()].index\n",
    "\n",
    "X = df.loc[~df.target.isnull(),:].reset_index(drop=True)\n",
    "x_te = df.loc[df.target.isnull(),:].reset_index(drop=True)"
   ]
  },
  {
   "cell_type": "code",
   "execution_count": 11,
   "metadata": {},
   "outputs": [
    {
     "name": "stdout",
     "output_type": "stream",
     "text": [
      "CPU times: user 12.2 s, sys: 59.6 ms, total: 12.2 s\n",
      "Wall time: 11.7 s\n"
     ]
    }
   ],
   "source": [
    "%%time\n",
    "train_mat1 = mat1[df_train_index.tolist()]"
   ]
  },
  {
   "cell_type": "code",
   "execution_count": 12,
   "metadata": {},
   "outputs": [],
   "source": [
    "test_mat1 = mat1[df_test_index.tolist()]\n",
    "train_mat2 = mat2[df_train_index.tolist()]\n",
    "test_mat2 = mat2[df_test_index.tolist()]\n",
    "train_mat3 = mat3[df_train_index.tolist()]\n",
    "test_mat3 = mat3[df_test_index.tolist()]"
   ]
  },
  {
   "cell_type": "code",
   "execution_count": 15,
   "metadata": {},
   "outputs": [
    {
     "name": "stdout",
     "output_type": "stream",
     "text": [
      "fold 0\n",
      "prepare train\n",
      "prepare valid\n",
      "Training until validation scores don't improve for 200 rounds.\n",
      "[50]\tvalid_0's auc: 0.637455\n",
      "[100]\tvalid_0's auc: 0.640221\n",
      "[150]\tvalid_0's auc: 0.644012\n",
      "[200]\tvalid_0's auc: 0.648524\n",
      "[250]\tvalid_0's auc: 0.65384\n",
      "[300]\tvalid_0's auc: 0.657828\n",
      "[350]\tvalid_0's auc: 0.661973\n",
      "[400]\tvalid_0's auc: 0.665733\n",
      "[450]\tvalid_0's auc: 0.668948\n",
      "[500]\tvalid_0's auc: 0.671543\n",
      "[550]\tvalid_0's auc: 0.673531\n",
      "[600]\tvalid_0's auc: 0.675258\n",
      "[650]\tvalid_0's auc: 0.67673\n",
      "[700]\tvalid_0's auc: 0.677881\n",
      "[750]\tvalid_0's auc: 0.679041\n",
      "[800]\tvalid_0's auc: 0.679671\n",
      "[850]\tvalid_0's auc: 0.680228\n",
      "[900]\tvalid_0's auc: 0.680742\n",
      "[950]\tvalid_0's auc: 0.681224\n",
      "[1100]\tvalid_0's auc: 0.682394\n",
      "[1150]\tvalid_0's auc: 0.682544\n",
      "[1200]\tvalid_0's auc: 0.682593\n",
      "[1250]\tvalid_0's auc: 0.682739\n",
      "[1300]\tvalid_0's auc: 0.682902\n",
      "[1350]\tvalid_0's auc: 0.682769\n",
      "[1400]\tvalid_0's auc: 0.68277\n",
      "[1450]\tvalid_0's auc: 0.682804\n",
      "[1500]\tvalid_0's auc: 0.68272\n",
      "Early stopping, best iteration is:\n",
      "[1303]\tvalid_0's auc: 0.682924\n",
      "0 0.682924136551\n",
      "prepare test\n",
      "fold 1\n",
      "prepare train\n",
      "prepare valid\n",
      "Training until validation scores don't improve for 200 rounds.\n",
      "[50]\tvalid_0's auc: 0.638699\n",
      "[100]\tvalid_0's auc: 0.64309\n",
      "[150]\tvalid_0's auc: 0.645408\n",
      "[200]\tvalid_0's auc: 0.649814\n",
      "[250]\tvalid_0's auc: 0.65427\n",
      "[300]\tvalid_0's auc: 0.657491\n",
      "[350]\tvalid_0's auc: 0.661008\n",
      "[400]\tvalid_0's auc: 0.664223\n",
      "[450]\tvalid_0's auc: 0.666014\n",
      "[500]\tvalid_0's auc: 0.667975\n",
      "[550]\tvalid_0's auc: 0.669343\n",
      "[600]\tvalid_0's auc: 0.670854\n",
      "[650]\tvalid_0's auc: 0.671913\n",
      "[700]\tvalid_0's auc: 0.672672\n",
      "[750]\tvalid_0's auc: 0.673438\n",
      "[800]\tvalid_0's auc: 0.674144\n",
      "[850]\tvalid_0's auc: 0.674841\n",
      "[900]\tvalid_0's auc: 0.675199\n",
      "[950]\tvalid_0's auc: 0.675426\n",
      "[1000]\tvalid_0's auc: 0.675629\n",
      "[1050]\tvalid_0's auc: 0.675841\n",
      "[1100]\tvalid_0's auc: 0.676183\n",
      "[1150]\tvalid_0's auc: 0.676368\n",
      "[1200]\tvalid_0's auc: 0.67637\n",
      "[1250]\tvalid_0's auc: 0.676318\n",
      "[1300]\tvalid_0's auc: 0.676276\n",
      "[1350]\tvalid_0's auc: 0.676061\n",
      "Early stopping, best iteration is:\n",
      "[1169]\tvalid_0's auc: 0.676491\n",
      "1 0.676490670879\n",
      "prepare test\n",
      "fold 2\n",
      "prepare train\n",
      "prepare valid\n",
      "Training until validation scores don't improve for 200 rounds.\n",
      "[50]\tvalid_0's auc: 0.63265\n",
      "[100]\tvalid_0's auc: 0.63726\n",
      "[150]\tvalid_0's auc: 0.641671\n",
      "[200]\tvalid_0's auc: 0.646218\n",
      "[250]\tvalid_0's auc: 0.651613\n",
      "[300]\tvalid_0's auc: 0.65688\n",
      "[350]\tvalid_0's auc: 0.660995\n",
      "[400]\tvalid_0's auc: 0.664344\n",
      "[450]\tvalid_0's auc: 0.667294\n",
      "[500]\tvalid_0's auc: 0.669384\n",
      "[550]\tvalid_0's auc: 0.671399\n",
      "[600]\tvalid_0's auc: 0.672809\n",
      "[650]\tvalid_0's auc: 0.673708\n",
      "[700]\tvalid_0's auc: 0.674589\n",
      "[750]\tvalid_0's auc: 0.675285\n",
      "[800]\tvalid_0's auc: 0.675735\n",
      "[850]\tvalid_0's auc: 0.676299\n",
      "[900]\tvalid_0's auc: 0.676551\n",
      "[950]\tvalid_0's auc: 0.676817\n",
      "[1000]\tvalid_0's auc: 0.677014\n",
      "[1050]\tvalid_0's auc: 0.677124\n",
      "[1100]\tvalid_0's auc: 0.677288\n",
      "[1150]\tvalid_0's auc: 0.677425\n",
      "[1200]\tvalid_0's auc: 0.677389\n",
      "[1250]\tvalid_0's auc: 0.677266\n",
      "[1300]\tvalid_0's auc: 0.677154\n",
      "[1350]\tvalid_0's auc: 0.676929\n",
      "Early stopping, best iteration is:\n",
      "[1170]\tvalid_0's auc: 0.677483\n",
      "2 0.677483007474\n",
      "prepare test\n",
      "fold 3\n",
      "prepare train\n",
      "prepare valid\n",
      "Training until validation scores don't improve for 200 rounds.\n",
      "[50]\tvalid_0's auc: 0.643157\n",
      "[100]\tvalid_0's auc: 0.646467\n",
      "[150]\tvalid_0's auc: 0.64827\n",
      "[200]\tvalid_0's auc: 0.652754\n",
      "[250]\tvalid_0's auc: 0.657252\n",
      "[400]\tvalid_0's auc: 0.668151\n",
      "[450]\tvalid_0's auc: 0.671066\n",
      "[500]\tvalid_0's auc: 0.673483\n",
      "[550]\tvalid_0's auc: 0.674837\n",
      "[600]\tvalid_0's auc: 0.676189\n",
      "[650]\tvalid_0's auc: 0.677242\n",
      "[700]\tvalid_0's auc: 0.678118\n",
      "[750]\tvalid_0's auc: 0.678988\n",
      "[800]\tvalid_0's auc: 0.679602\n",
      "[850]\tvalid_0's auc: 0.679972\n",
      "[900]\tvalid_0's auc: 0.680341\n",
      "[950]\tvalid_0's auc: 0.680734\n",
      "[1000]\tvalid_0's auc: 0.680998\n",
      "[1050]\tvalid_0's auc: 0.681039\n",
      "[1100]\tvalid_0's auc: 0.681248\n",
      "[1150]\tvalid_0's auc: 0.681388\n",
      "[1200]\tvalid_0's auc: 0.681394\n",
      "[1250]\tvalid_0's auc: 0.681473\n",
      "[1300]\tvalid_0's auc: 0.68131\n",
      "[1350]\tvalid_0's auc: 0.681403\n",
      "[1400]\tvalid_0's auc: 0.68141\n",
      "Early stopping, best iteration is:\n",
      "[1248]\tvalid_0's auc: 0.681494\n",
      "3 0.681494129307\n",
      "prepare test\n",
      "fold 4\n",
      "prepare train\n",
      "prepare valid\n",
      "Training until validation scores don't improve for 200 rounds.\n",
      "[50]\tvalid_0's auc: 0.642339\n",
      "[100]\tvalid_0's auc: 0.646782\n",
      "[150]\tvalid_0's auc: 0.650387\n",
      "[200]\tvalid_0's auc: 0.654546\n",
      "[250]\tvalid_0's auc: 0.659676\n",
      "[300]\tvalid_0's auc: 0.663117\n",
      "[350]\tvalid_0's auc: 0.665843\n",
      "[400]\tvalid_0's auc: 0.667938\n",
      "[450]\tvalid_0's auc: 0.670434\n",
      "[500]\tvalid_0's auc: 0.671971\n",
      "[550]\tvalid_0's auc: 0.673632\n",
      "[600]\tvalid_0's auc: 0.67502\n",
      "[650]\tvalid_0's auc: 0.676095\n",
      "[700]\tvalid_0's auc: 0.67682\n",
      "[750]\tvalid_0's auc: 0.677497\n",
      "[800]\tvalid_0's auc: 0.677923\n",
      "[850]\tvalid_0's auc: 0.678398\n",
      "[900]\tvalid_0's auc: 0.678484\n",
      "[950]\tvalid_0's auc: 0.678615\n",
      "[1000]\tvalid_0's auc: 0.678675\n",
      "[1050]\tvalid_0's auc: 0.678597\n",
      "[1100]\tvalid_0's auc: 0.678601\n",
      "[1150]\tvalid_0's auc: 0.678453\n",
      "[1200]\tvalid_0's auc: 0.678212\n",
      "Early stopping, best iteration is:\n",
      "[1002]\tvalid_0's auc: 0.678716\n",
      "4 0.67871625837\n",
      "prepare test\n"
     ]
    }
   ],
   "source": [
    "train_cols = [u'num_keys_f1',\n",
    "       u'sum_values_f1', u'num_keys_f2', u'sum_values_f2', u'num_keys_f3',\n",
    "       u'sum_values_f3', u'num_times_cat_eq_0', u'num_times_cat_eq_1',\n",
    "       u'num_times_cat_eq_2', u'num_times_cat_eq_3', u'num_times_cat_eq_4',\n",
    "       u'num_times_cat_eq_5', u'records', u'max_days', u'min_days',\n",
    "       u'sum_values_f1_std', u'num_keys_f1_std', u'sum_values_f2_std',\n",
    "       u'num_keys_f2_std', u'sum_values_f3_std', u'num_keys_f3_std',\n",
    "       u'sum_values_f1_max', u'num_keys_f1_max', u'sum_values_f2_max',\n",
    "       u'num_keys_f2_max', u'sum_values_f3_max', u'num_keys_f3_max',\n",
    "       u'sum_values_f1_mean', u'num_keys_f1_mean', u'sum_values_f2_mean',\n",
    "       u'num_keys_f2_mean', u'sum_values_f3_mean', u'num_keys_f3_mean']\n",
    "\n",
    "# Train the model\n",
    "parameters = {\n",
    "    'task': 'train',\n",
    "    'boosting_type': 'gbdt',\n",
    "    'objective': 'binary',\n",
    "    'metric': 'auc',\n",
    "    'num_leaves': 128,\n",
    "    'max_depth' : 12,\n",
    "    #'min_data' : 30,\n",
    "    #'lambda_l2' : 15,\n",
    "    'min_sum_hessian_in_leaf' : 0.3,\n",
    "    'lambda_l1' : 2.5,\n",
    "    #'max_drop' : 1,\n",
    "    'learning_rate': 0.01,\n",
    "    'feature_fraction': 0.7,\n",
    "    'verbose': 0\n",
    "}\n",
    "\n",
    "kf = KFold(n_splits=5, shuffle=True, random_state=239)\n",
    "\n",
    "ifold = 0\n",
    "\n",
    "y_pred = 0\n",
    "y_oof = X[['uid','target']].copy()\n",
    "y_oof['target'] = np.nan\n",
    "\n",
    "scores = []\n",
    "\n",
    "for train_index,test_index in kf.split(X):       \n",
    "    print('fold', ifold)\n",
    "    \n",
    "    y_tr,y_va = X.loc[train_index,'target'].values,X.loc[test_index,'target'].values\n",
    "    X_tr,X_va = X.loc[train_index, train_cols].values,X.loc[test_index, train_cols].values\n",
    "    X_te = x_te[train_cols]\n",
    "    \n",
    "    mat = test_mat1.sum(axis=0)\n",
    "    ixs1 = np.asarray(mat)[0].argsort()[-5000:][::-1]\n",
    "    mat = test_mat2.sum(axis=0)\n",
    "    ixs2 = np.asarray(mat)[0].argsort()[-5000:][::-1]\n",
    "    mat = test_mat3.sum(axis=0)\n",
    "    ixs3 = np.asarray(mat)[0].argsort()[-5000:][::-1]\n",
    "    \n",
    "    print('prepare train')\n",
    "    X_tr = sp.hstack([\n",
    "        X_tr, train_mat1[:,ixs1][train_index], train_mat2[:,ixs2][train_index], train_mat3[:,ixs3][train_index]\n",
    "    ]).tocsr()\n",
    "    print('prepare valid')\n",
    "    X_va = sp.hstack([\n",
    "        X_va, train_mat1[:,ixs1][test_index], train_mat2[:,ixs2][test_index], train_mat3[:,ixs3][test_index]\n",
    "    ]).tocsr()\n",
    "    \n",
    "    # Create the LightGBM data containers\n",
    "    tr_data = lgb.Dataset(X_tr, label=y_tr) #, categorical_feature=cate_cols\n",
    "    va_data = lgb.Dataset(X_va, label=y_va) #, categorical_feature=cate_cols\n",
    "\n",
    "    model = lgb.train(parameters,\n",
    "                      tr_data,\n",
    "                      valid_sets=va_data,\n",
    "                      num_boost_round=8000,\n",
    "                      early_stopping_rounds=200,\n",
    "                      verbose_eval=50)\n",
    "    \n",
    "    yhat = model.predict(X_va, model.best_iteration)\n",
    "    print(ifold,roc_auc_score(y_va,yhat))\n",
    "    scores.append(roc_auc_score(y_va,yhat))\n",
    "    y_oof.loc[test_index,'target'] = yhat\n",
    "\n",
    "    print('prepare test')\n",
    "    X_te = sp.hstack([\n",
    "        X_te, test_mat1[:,ixs1], test_mat2[:,ixs2], test_mat3[:,ixs3]\n",
    "    ]).tocsr()   \n",
    "    \n",
    "    ytst = model.predict(X_te, model.best_iteration)\n",
    "    y_pred += ytst*0.1\n",
    "    \n",
    "    ifold += 1"
   ]
  },
  {
   "cell_type": "code",
   "execution_count": 16,
   "metadata": {},
   "outputs": [
    {
     "name": "stdout",
     "output_type": "stream",
     "text": [
      "[0.68292413655060324, 0.67649067087887793, 0.67748300747367651, 0.68149412930654885, 0.67871625837012206] 0.679421640516\n"
     ]
    },
    {
     "data": {
      "text/plain": [
       "0.67935701957848771"
      ]
     },
     "execution_count": 16,
     "metadata": {},
     "output_type": "execute_result"
    }
   ],
   "source": [
    "print(scores,np.mean(scores))\n",
    "roc_auc_score(X.target.values, y_oof.target.values)"
   ]
  },
  {
   "cell_type": "code",
   "execution_count": 17,
   "metadata": {},
   "outputs": [],
   "source": [
    "model_name = 'sparse_10folds_timp'\n",
    "\n",
    "results_dir = './results/'\n",
    "np.save(results_dir + 'train_' + model_name +'.npy', y_oof.target.values)\n",
    "sample_sub = pd.read_table(data_dir+'mlboot_test.tsv')"
   ]
  },
  {
   "cell_type": "code",
   "execution_count": 18,
   "metadata": {},
   "outputs": [
    {
     "name": "stdout",
     "output_type": "stream",
     "text": [
      "isnull? False\n"
     ]
    },
    {
     "data": {
      "text/html": [
       "<div>\n",
       "<style scoped>\n",
       "    .dataframe tbody tr th:only-of-type {\n",
       "        vertical-align: middle;\n",
       "    }\n",
       "\n",
       "    .dataframe tbody tr th {\n",
       "        vertical-align: top;\n",
       "    }\n",
       "\n",
       "    .dataframe thead th {\n",
       "        text-align: right;\n",
       "    }\n",
       "</style>\n",
       "<table border=\"1\" class=\"dataframe\">\n",
       "  <thead>\n",
       "    <tr style=\"text-align: right;\">\n",
       "      <th></th>\n",
       "      <th>cuid</th>\n",
       "      <th>target</th>\n",
       "    </tr>\n",
       "  </thead>\n",
       "  <tbody>\n",
       "    <tr>\n",
       "      <th>0</th>\n",
       "      <td>888b238b4d14c03173baa375a739f6bc</td>\n",
       "      <td>0.056891</td>\n",
       "    </tr>\n",
       "    <tr>\n",
       "      <th>1</th>\n",
       "      <td>ac4b8244f3ae82df511b002257473c11</td>\n",
       "      <td>0.030653</td>\n",
       "    </tr>\n",
       "    <tr>\n",
       "      <th>2</th>\n",
       "      <td>483d8b91e49522c8a5bbe37f3872c749</td>\n",
       "      <td>0.048096</td>\n",
       "    </tr>\n",
       "    <tr>\n",
       "      <th>3</th>\n",
       "      <td>4c7ec46a0e88a7e1e1cedd2d526d5d61</td>\n",
       "      <td>0.018669</td>\n",
       "    </tr>\n",
       "    <tr>\n",
       "      <th>4</th>\n",
       "      <td>fdbfba9842ff0bf86d600eb334c7c42b</td>\n",
       "      <td>0.019849</td>\n",
       "    </tr>\n",
       "  </tbody>\n",
       "</table>\n",
       "</div>"
      ],
      "text/plain": [
       "                               cuid    target\n",
       "0  888b238b4d14c03173baa375a739f6bc  0.056891\n",
       "1  ac4b8244f3ae82df511b002257473c11  0.030653\n",
       "2  483d8b91e49522c8a5bbe37f3872c749  0.048096\n",
       "3  4c7ec46a0e88a7e1e1cedd2d526d5d61  0.018669\n",
       "4  fdbfba9842ff0bf86d600eb334c7c42b  0.019849"
      ]
     },
     "execution_count": 18,
     "metadata": {},
     "output_type": "execute_result"
    }
   ],
   "source": [
    "sub = x_te[['uid','target']].copy()\n",
    "sub['target'] = y_pred\n",
    "sub.columns = ['cuid','target']\n",
    "sample_sub = sample_sub.merge(sub, on='cuid', how='left')\n",
    "np.save(results_dir + 'test_' + model_name +'.npy', sample_sub.target.values)\n",
    "print('isnull?',sample_sub.target.isnull().any())\n",
    "sample_sub.head()"
   ]
  },
  {
   "cell_type": "code",
   "execution_count": 19,
   "metadata": {},
   "outputs": [],
   "source": [
    "sample_sub[['target']].to_csv(results_dir + model_name + '.csv', header=False, index=False)"
   ]
  },
  {
   "cell_type": "code",
   "execution_count": null,
   "metadata": {},
   "outputs": [],
   "source": []
  }
 ],
 "metadata": {
  "kernelspec": {
   "display_name": "Python 3",
   "language": "python",
   "name": "python3"
  },
  "language_info": {
   "codemirror_mode": {
    "name": "ipython",
    "version": 3
   },
   "file_extension": ".py",
   "mimetype": "text/x-python",
   "name": "python",
   "nbconvert_exporter": "python",
   "pygments_lexer": "ipython3",
   "version": "3.6.2"
  }
 },
 "nbformat": 4,
 "nbformat_minor": 2
}

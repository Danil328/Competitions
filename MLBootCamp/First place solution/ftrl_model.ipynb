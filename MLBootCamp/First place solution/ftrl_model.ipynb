{
 "cells": [
  {
   "cell_type": "code",
   "execution_count": 1,
   "metadata": {},
   "outputs": [],
   "source": [
    "data_dir = './data/mlboot_dataset/'\n",
    "model_name = 'ftrl'\n",
    "results_dir = './results/'\n",
    "\n",
    "import pandas as pd\n",
    "import numpy as np\n",
    "from sklearn.model_selection import KFold\n",
    "from sklearn.metrics import roc_auc_score\n",
    "import lightgbm as lgb\n",
    "import scipy.sparse as sp"
   ]
  },
  {
   "cell_type": "code",
   "execution_count": null,
   "metadata": {},
   "outputs": [],
   "source": [
    "import gc\n",
    "df = pd.read_csv(data_dir + 'preprocessed_new.csv') \n",
    "y = pd.read_table(data_dir + 'mlboot_train_answers.tsv')\n",
    "y.columns = ['uid','target']\n",
    "df = df.merge(y, on='uid', how='left')\n",
    "\n",
    "df_train_index = df[~df.target.isnull()].index\n",
    "df_test_index = df[df.target.isnull()].index\n",
    "\n",
    "mat1 = sp.load_npz(data_dir+'dmat1.npz').tolil()\n",
    "mat2 = sp.load_npz(data_dir+'dmat2.npz').tolil()\n",
    "mat3 = sp.load_npz(data_dir+'dmat3.npz').tolil()\n",
    "print(mat1.shape, mat2.shape, mat3.shape)\n",
    "\n",
    "df['max_f1'] = mat1.tocsr().max(axis=1).todense()\n",
    "df['max_f2'] = mat2.tocsr().max(axis=1).todense()\n",
    "df['max_f3'] = mat3.tocsr().max(axis=1).todense()"
   ]
  },
  {
   "cell_type": "code",
   "execution_count": null,
   "metadata": {},
   "outputs": [],
   "source": [
    "mat1 = sp.load_npz(data_dir+'dmat1.npz').tolil()\n",
    "mat2 = sp.load_npz(data_dir+'dmat2.npz').tolil()\n",
    "mat3 = sp.load_npz(data_dir+'dmat3.npz').tolil()\n",
    "print(mat1.shape, mat2.shape, mat3.shape)\n",
    "\n",
    "mat = sp.hstack([mat1,mat2,mat3])\n",
    "del mat1,mat2,mat3\n",
    "gc.collect()"
   ]
  },
  {
   "cell_type": "code",
   "execution_count": 7,
   "metadata": {},
   "outputs": [],
   "source": [
    "train_mat = mat.tocsr()[df_train_index.tolist()]\n",
    "test_mat = mat.tocsr()[df_test_index.tolist()]\n",
    "\n",
    "mat = mat.tocsc()[:, np.where((train_mat.getnnz(axis=0) > 4) & (test_mat.getnnz(axis=0) > 0))[0]].tocsr()"
   ]
  },
  {
   "cell_type": "code",
   "execution_count": 8,
   "metadata": {},
   "outputs": [
    {
     "name": "stdout",
     "output_type": "stream",
     "text": [
      "scaling matrix\n"
     ]
    },
    {
     "data": {
      "text/plain": [
       "(609018, 338171)"
      ]
     },
     "execution_count": 8,
     "metadata": {},
     "output_type": "execute_result"
    }
   ],
   "source": [
    "print('scaling matrix')\n",
    "from sklearn.preprocessing import MaxAbsScaler \n",
    "scaler_mat = MaxAbsScaler()\n",
    "mat = scaler_mat.fit_transform(mat)\n",
    "mat.shape"
   ]
  },
  {
   "cell_type": "code",
   "execution_count": 9,
   "metadata": {},
   "outputs": [],
   "source": [
    "X = df.loc[~df.target.isnull(),:].reset_index(drop=True)\n",
    "x_te = df.loc[df.target.isnull(),:].reset_index(drop=True)"
   ]
  },
  {
   "cell_type": "code",
   "execution_count": 10,
   "metadata": {},
   "outputs": [
    {
     "name": "stdout",
     "output_type": "stream",
     "text": [
      "CPU times: user 10 s, sys: 2.1 s, total: 12.1 s\n",
      "Wall time: 11.6 s\n"
     ]
    }
   ],
   "source": [
    "%%time\n",
    "train_mat = mat[df_train_index.tolist()]\n",
    "test_mat = mat[df_test_index.tolist()]\n",
    "del mat\n",
    "gc.collect()"
   ]
  },
  {
   "cell_type": "markdown",
   "metadata": {},
   "source": [
    "# Data preprocessing"
   ]
  },
  {
   "cell_type": "code",
   "execution_count": 11,
   "metadata": {},
   "outputs": [],
   "source": [
    "train_cols = ['num_times_cat_eq_0', 'num_times_cat_eq_1', 'num_times_cat_eq_2',\n",
    "       'num_times_cat_eq_3', 'num_times_cat_eq_4', 'num_times_cat_eq_5',\n",
    "       'records', 'max_days', 'min_days', 'sum_values_f1_max',\n",
    "       'num_keys_f1_max', 'sum_values_f2_max', 'num_keys_f2_max',\n",
    "       'sum_values_f3_max', 'num_keys_f3_max', 'sum_values_f1_mean',\n",
    "       'num_keys_f1_mean', 'sum_values_f2_mean', 'num_keys_f2_mean',\n",
    "       'sum_values_f3_mean', 'num_keys_f3_mean', 'max_day_cntr',\n",
    "       'mean_day_cntr', 'nuniq_keys_f1', 'nuniq_keys_f1.1',\n",
    "       'nuniq_keys_f1.2', 'sumval_keys_f1', 'sumval_keys_f1.1',\n",
    "       'sumval_keys_f1.2', 'most_freq_cat_te', 'diff_num_cats', 'unique_days',\n",
    "       'max_f1', 'max_f2', 'max_f3']"
   ]
  },
  {
   "cell_type": "code",
   "execution_count": 11,
   "metadata": {},
   "outputs": [],
   "source": [
    "#from sklearn.preprocessing import MinMaxScaler\n",
    "#scaler = MinMaxScaler(feature_range=(-1,1))\n",
    "#scaler.fit(X[train_cols].fillna(0).values)\n",
    "#X[train_cols] = scaler.transform(X[train_cols].fillna(0).values)\n",
    "#x_te[train_cols] = scaler.transform(x_te[train_cols].fillna(0).values)"
   ]
  },
  {
   "cell_type": "code",
   "execution_count": 22,
   "metadata": {
    "scrolled": true
   },
   "outputs": [
    {
     "name": "stdout",
     "output_type": "stream",
     "text": [
      "Training fold 0\n"
     ]
    },
    {
     "name": "stderr",
     "output_type": "stream",
     "text": [
      "/root/miniconda3/lib/python3.6/site-packages/pandas/core/indexing.py:1472: FutureWarning: \n",
      "Passing list-likes to .loc or [] with any missing label will raise\n",
      "KeyError in the future, you can use .reindex() as an alternative.\n",
      "\n",
      "See the documentation here:\n",
      "https://pandas.pydata.org/pandas-docs/stable/indexing.html#deprecate-loc-reindex-listlike\n",
      "  return self._getitem_tuple(key)\n",
      "/root/miniconda3/lib/python3.6/site-packages/sklearn/feature_selection/univariate_selection.py:113: UserWarning: Features [0 0 0 0 0 0 0 0 0] are constant.\n",
      "  UserWarning)\n",
      "/root/miniconda3/lib/python3.6/site-packages/sklearn/feature_selection/univariate_selection.py:114: RuntimeWarning: invalid value encountered in true_divide\n",
      "  f = msb / msw\n"
     ]
    },
    {
     "name": "stdout",
     "output_type": "stream",
     "text": [
      "shape:  (342395, 169085)\n",
      "max:  1.0\n",
      "fold 0 iter 0 0.607181482412\n",
      "fold 0 iter 1 0.617548988682\n",
      "fold 0 iter 2 0.621804739426\n",
      "fold 0 iter 3 0.624775643456\n",
      "fold 0 iter 4 0.626644994816\n",
      "fold 0 iter 5 0.628065890224\n",
      "fold 0 iter 6 0.62890166848\n",
      "fold 0 iter 7 0.629204467762\n",
      "\n",
      "Training fold 1\n"
     ]
    },
    {
     "name": "stderr",
     "output_type": "stream",
     "text": [
      "/root/miniconda3/lib/python3.6/site-packages/sklearn/feature_selection/univariate_selection.py:113: UserWarning: Features [0 0 0 0 0 0 0] are constant.\n",
      "  UserWarning)\n"
     ]
    },
    {
     "name": "stdout",
     "output_type": "stream",
     "text": [
      "shape:  (342395, 169085)\n",
      "max:  1.0\n",
      "fold 1 iter 0 0.602940944401\n",
      "fold 1 iter 1 0.6126685984\n",
      "fold 1 iter 2 0.617153740534\n",
      "fold 1 iter 3 0.619596839297\n",
      "fold 1 iter 4 0.620714582813\n",
      "fold 1 iter 5 0.621305818021\n",
      "fold 1 iter 6 0.621621273638\n",
      "fold 1 iter 7 0.621722144189\n",
      "\n",
      "Training fold 2\n"
     ]
    },
    {
     "name": "stderr",
     "output_type": "stream",
     "text": [
      "/root/miniconda3/lib/python3.6/site-packages/sklearn/feature_selection/univariate_selection.py:113: UserWarning: Features [0 0 0 0 0 0 0 0 0 0 0 0] are constant.\n",
      "  UserWarning)\n"
     ]
    },
    {
     "name": "stdout",
     "output_type": "stream",
     "text": [
      "shape:  (342395, 169085)\n",
      "max:  1.0\n",
      "fold 2 iter 0 0.601715169635\n",
      "fold 2 iter 1 0.610345264805\n",
      "fold 2 iter 2 0.616377940924\n",
      "fold 2 iter 3 0.619029754229\n",
      "fold 2 iter 4 0.621185803333\n",
      "fold 2 iter 5 0.622429485686\n",
      "fold 2 iter 6 0.623116771011\n",
      "fold 2 iter 7 0.623495045833\n",
      "\n",
      "Training fold 3\n"
     ]
    },
    {
     "name": "stderr",
     "output_type": "stream",
     "text": [
      "/root/miniconda3/lib/python3.6/site-packages/sklearn/feature_selection/univariate_selection.py:113: UserWarning: Features [0 0 0 0 0 0 0 0 0 0 0 0 0 0 0] are constant.\n",
      "  UserWarning)\n"
     ]
    },
    {
     "name": "stdout",
     "output_type": "stream",
     "text": [
      "shape:  (342395, 169085)\n",
      "max:  1.0\n",
      "fold 3 iter 0 0.597541118321\n",
      "fold 3 iter 1 0.609626264505\n",
      "fold 3 iter 2 0.613562951472\n",
      "fold 3 iter 3 0.61954632591\n",
      "fold 3 iter 4 0.622082554766\n",
      "fold 3 iter 5 0.62314257485\n",
      "fold 3 iter 6 0.623716432692\n",
      "fold 3 iter 7 0.624068297572\n",
      "\n",
      "Training fold 4\n",
      "shape:  (342396, 169085)\n",
      "max:  1.0\n",
      "fold 4 iter 0 0.60187012667\n",
      "fold 4 iter 1 0.609038969182\n",
      "fold 4 iter 2 0.613371585915\n",
      "fold 4 iter 3 0.614885685839\n",
      "fold 4 iter 4 0.617332940977\n",
      "fold 4 iter 5 0.618385382772\n",
      "fold 4 iter 6 0.618876148522\n",
      "fold 4 iter 7 0.619433833752\n",
      "\n"
     ]
    }
   ],
   "source": [
    "from sklearn.model_selection import KFold\n",
    "n_folds = 5\n",
    "kf = KFold(n_splits=n_folds, shuffle=True, random_state=239)\n",
    "pred = np.zeros(y.shape)\n",
    "test_pred = 0\n",
    "ifold = 0\n",
    "\n",
    "fold_auc = []\n",
    "y = X.target.values\n",
    "\n",
    "from wordbatch.models import FM_FTRL\n",
    "from sklearn.feature_selection import SelectPercentile\n",
    "cpu_cores = 4\n",
    "for trn_inx, val_inx in kf.split(y):\n",
    "    print(\"Training fold {}\".format(ifold))\n",
    "    y_tr,y_va = y[trn_inx],y[val_inx]\n",
    "    X_tr = X.loc[:, train_cols].fillna(0).values[trn_inx]\n",
    "    X_va = X.loc[:, train_cols].fillna(0).values[val_inx]\n",
    "    X_te = x_te.loc[:,train_cols].fillna(0).values\n",
    "    \n",
    "    yy = y_tr\n",
    "    ssp = SelectPercentile(percentile=50)  \n",
    "    ssp.fit(train_mat[trn_inx], yy)\n",
    "    sp_train_mat = ssp.transform(train_mat[trn_inx])\n",
    "    sp_val_mat = ssp.transform(train_mat[val_inx])\n",
    "    sp_test_mat = ssp.transform(test_mat)  \n",
    "    print('shape: ',sp_train_mat.shape)\n",
    "    print('max: ',sp_train_mat.max())\n",
    "    \n",
    "    from sklearn.preprocessing import StandardScaler\n",
    "    scaler = StandardScaler()\n",
    "    scaler.fit(X_tr)\n",
    "    X_tr = scaler.transform(X_tr)\n",
    "    X_va = scaler.transform(X_va)\n",
    "    X_te = scaler.transform(X_te)\n",
    "    del scaler\n",
    "    \n",
    "    trn_seq = sp.hstack([X_tr, sp_train_mat])\n",
    "    val_seq = sp.hstack([X_va, sp_val_mat])\n",
    "    te_seq = sp.hstack([X_te, sp_test_mat])\n",
    "    \n",
    "    model = FM_FTRL(alpha=0.02, beta=0.01, L1=0.000001, L2=0.001, D=trn_seq.shape[1], alpha_fm=0.03, L2_fm=0.005, init_fm=0.2,\n",
    "                           D_fm=30, e_noise=0.0000002, iters=1, inv_link=\"sigmoid\", threads=8)\n",
    "    score = 0\n",
    "    for i in range(8):\n",
    "        model.fit(trn_seq, y_tr)\n",
    "        yhat = model.predict(val_seq).ravel()\n",
    "        if (np.isnan(yhat).any()):\n",
    "            print(':(')\n",
    "            break\n",
    "        pred[val_inx] = yhat\n",
    "        score = roc_auc_score(y_va,yhat)\n",
    "        print('fold',ifold,'iter', i, score)\n",
    "    \n",
    "    fold_auc.append(score)\n",
    "    print()\n",
    "    \n",
    "    test_pred += model.predict(te_seq).ravel()/n_folds\n",
    "    ifold += 1\n",
    "    gc.collect()"
   ]
  },
  {
   "cell_type": "code",
   "execution_count": 23,
   "metadata": {},
   "outputs": [
    {
     "name": "stdout",
     "output_type": "stream",
     "text": [
      "[0.62920446776181305, 0.62172214418872063, 0.62349504583268056, 0.62406829757229965, 0.61943383375201833]\n",
      "0.623584757822 0.00324106460659\n"
     ]
    },
    {
     "data": {
      "text/plain": [
       "0.62344099445898693"
      ]
     },
     "execution_count": 23,
     "metadata": {},
     "output_type": "execute_result"
    }
   ],
   "source": [
    "print(fold_auc)\n",
    "print(np.mean(fold_auc), np.std(fold_auc))\n",
    "roc_auc_score(X.target.values, pred)"
   ]
  },
  {
   "cell_type": "code",
   "execution_count": 24,
   "metadata": {},
   "outputs": [],
   "source": [
    "model_name = 'ftrl_50'\n",
    "np.save(results_dir + 'train_' + model_name +'.npy', pred)\n",
    "sample_sub = pd.read_table(data_dir+'mlboot_test.tsv')"
   ]
  },
  {
   "cell_type": "code",
   "execution_count": 25,
   "metadata": {},
   "outputs": [
    {
     "name": "stdout",
     "output_type": "stream",
     "text": [
      "isnull? False\n"
     ]
    },
    {
     "data": {
      "text/html": [
       "<div>\n",
       "<style scoped>\n",
       "    .dataframe tbody tr th:only-of-type {\n",
       "        vertical-align: middle;\n",
       "    }\n",
       "\n",
       "    .dataframe tbody tr th {\n",
       "        vertical-align: top;\n",
       "    }\n",
       "\n",
       "    .dataframe thead th {\n",
       "        text-align: right;\n",
       "    }\n",
       "</style>\n",
       "<table border=\"1\" class=\"dataframe\">\n",
       "  <thead>\n",
       "    <tr style=\"text-align: right;\">\n",
       "      <th></th>\n",
       "      <th>cuid</th>\n",
       "      <th>target</th>\n",
       "    </tr>\n",
       "  </thead>\n",
       "  <tbody>\n",
       "    <tr>\n",
       "      <th>0</th>\n",
       "      <td>888b238b4d14c03173baa375a739f6bc</td>\n",
       "      <td>0.008976</td>\n",
       "    </tr>\n",
       "    <tr>\n",
       "      <th>1</th>\n",
       "      <td>ac4b8244f3ae82df511b002257473c11</td>\n",
       "      <td>0.077496</td>\n",
       "    </tr>\n",
       "    <tr>\n",
       "      <th>2</th>\n",
       "      <td>483d8b91e49522c8a5bbe37f3872c749</td>\n",
       "      <td>0.075154</td>\n",
       "    </tr>\n",
       "    <tr>\n",
       "      <th>3</th>\n",
       "      <td>4c7ec46a0e88a7e1e1cedd2d526d5d61</td>\n",
       "      <td>0.061373</td>\n",
       "    </tr>\n",
       "    <tr>\n",
       "      <th>4</th>\n",
       "      <td>fdbfba9842ff0bf86d600eb334c7c42b</td>\n",
       "      <td>0.052356</td>\n",
       "    </tr>\n",
       "  </tbody>\n",
       "</table>\n",
       "</div>"
      ],
      "text/plain": [
       "                               cuid    target\n",
       "0  888b238b4d14c03173baa375a739f6bc  0.008976\n",
       "1  ac4b8244f3ae82df511b002257473c11  0.077496\n",
       "2  483d8b91e49522c8a5bbe37f3872c749  0.075154\n",
       "3  4c7ec46a0e88a7e1e1cedd2d526d5d61  0.061373\n",
       "4  fdbfba9842ff0bf86d600eb334c7c42b  0.052356"
      ]
     },
     "execution_count": 25,
     "metadata": {},
     "output_type": "execute_result"
    }
   ],
   "source": [
    "sub = x_te[['uid','target']].copy()\n",
    "sub['target'] = test_pred\n",
    "sub.columns = ['cuid','target']\n",
    "sample_sub = sample_sub.merge(sub, on='cuid', how='left')\n",
    "np.save(results_dir + 'test_' + model_name +'.npy', sample_sub.target.values)\n",
    "print('isnull?',sample_sub.target.isnull().any())\n",
    "sample_sub.head()"
   ]
  },
  {
   "cell_type": "code",
   "execution_count": 27,
   "metadata": {},
   "outputs": [],
   "source": [
    "sample_sub[['target']].to_csv(results_dir + 'ftrl_50' + '.csv', header=False, index=False)"
   ]
  },
  {
   "cell_type": "code",
   "execution_count": 28,
   "metadata": {},
   "outputs": [
    {
     "data": {
      "text/html": [
       "<div>\n",
       "<style scoped>\n",
       "    .dataframe tbody tr th:only-of-type {\n",
       "        vertical-align: middle;\n",
       "    }\n",
       "\n",
       "    .dataframe tbody tr th {\n",
       "        vertical-align: top;\n",
       "    }\n",
       "\n",
       "    .dataframe thead th {\n",
       "        text-align: right;\n",
       "    }\n",
       "</style>\n",
       "<table border=\"1\" class=\"dataframe\">\n",
       "  <thead>\n",
       "    <tr style=\"text-align: right;\">\n",
       "      <th></th>\n",
       "      <th>cuid</th>\n",
       "      <th>target</th>\n",
       "    </tr>\n",
       "  </thead>\n",
       "  <tbody>\n",
       "    <tr>\n",
       "      <th>0</th>\n",
       "      <td>888b238b4d14c03173baa375a739f6bc</td>\n",
       "      <td>0.008976</td>\n",
       "    </tr>\n",
       "    <tr>\n",
       "      <th>1</th>\n",
       "      <td>ac4b8244f3ae82df511b002257473c11</td>\n",
       "      <td>0.077496</td>\n",
       "    </tr>\n",
       "    <tr>\n",
       "      <th>2</th>\n",
       "      <td>483d8b91e49522c8a5bbe37f3872c749</td>\n",
       "      <td>0.075154</td>\n",
       "    </tr>\n",
       "    <tr>\n",
       "      <th>3</th>\n",
       "      <td>4c7ec46a0e88a7e1e1cedd2d526d5d61</td>\n",
       "      <td>0.061373</td>\n",
       "    </tr>\n",
       "    <tr>\n",
       "      <th>4</th>\n",
       "      <td>fdbfba9842ff0bf86d600eb334c7c42b</td>\n",
       "      <td>0.052356</td>\n",
       "    </tr>\n",
       "  </tbody>\n",
       "</table>\n",
       "</div>"
      ],
      "text/plain": [
       "                               cuid    target\n",
       "0  888b238b4d14c03173baa375a739f6bc  0.008976\n",
       "1  ac4b8244f3ae82df511b002257473c11  0.077496\n",
       "2  483d8b91e49522c8a5bbe37f3872c749  0.075154\n",
       "3  4c7ec46a0e88a7e1e1cedd2d526d5d61  0.061373\n",
       "4  fdbfba9842ff0bf86d600eb334c7c42b  0.052356"
      ]
     },
     "execution_count": 28,
     "metadata": {},
     "output_type": "execute_result"
    }
   ],
   "source": [
    "sample_sub.head()"
   ]
  },
  {
   "cell_type": "code",
   "execution_count": 29,
   "metadata": {},
   "outputs": [
    {
     "name": "stdout",
     "output_type": "stream",
     "text": [
      "Training fold 0\n"
     ]
    },
    {
     "name": "stderr",
     "output_type": "stream",
     "text": [
      "/root/miniconda3/lib/python3.6/site-packages/pandas/core/indexing.py:1472: FutureWarning: \n",
      "Passing list-likes to .loc or [] with any missing label will raise\n",
      "KeyError in the future, you can use .reindex() as an alternative.\n",
      "\n",
      "See the documentation here:\n",
      "https://pandas.pydata.org/pandas-docs/stable/indexing.html#deprecate-loc-reindex-listlike\n",
      "  return self._getitem_tuple(key)\n",
      "/root/miniconda3/lib/python3.6/site-packages/sklearn/feature_selection/univariate_selection.py:113: UserWarning: Features [0 0 0 0 0 0 0 0 0 0 0 0 0] are constant.\n",
      "  UserWarning)\n",
      "/root/miniconda3/lib/python3.6/site-packages/sklearn/feature_selection/univariate_selection.py:114: RuntimeWarning: invalid value encountered in true_divide\n",
      "  f = msb / msw\n"
     ]
    },
    {
     "name": "stdout",
     "output_type": "stream",
     "text": [
      "shape:  (342395, 236719)\n",
      "max:  1.0\n",
      "fold 0 iter 0 0.60708655343\n",
      "fold 0 iter 1 0.61514083869\n",
      "fold 0 iter 2 0.620654780756\n",
      "fold 0 iter 3 0.621784961249\n",
      "fold 0 iter 4 0.62293854355\n",
      "fold 0 iter 5 0.622965365468\n",
      "fold 0 iter 6 0.622733741602\n",
      "fold 0 iter 7 0.622693453097\n",
      "fold 0 iter 8 0.622752656956\n",
      "fold 0 iter 9 0.622734462614\n",
      "\n",
      "Training fold 1\n"
     ]
    },
    {
     "name": "stderr",
     "output_type": "stream",
     "text": [
      "/root/miniconda3/lib/python3.6/site-packages/sklearn/feature_selection/univariate_selection.py:113: UserWarning: Features [0 0 0 0 0 0 0 0 0 0 0] are constant.\n",
      "  UserWarning)\n"
     ]
    },
    {
     "name": "stdout",
     "output_type": "stream",
     "text": [
      "shape:  (342395, 236719)\n",
      "max:  1.0\n",
      "fold 1 iter 0 0.601960894121\n",
      "fold 1 iter 1 0.607867647592\n",
      "fold 1 iter 2 0.611509375535\n",
      "fold 1 iter 3 0.615610949415\n",
      "fold 1 iter 4 0.619295114914\n",
      "fold 1 iter 5 0.621707880845\n",
      "fold 1 iter 6 0.62299603291\n",
      "fold 1 iter 7 0.623655557878\n",
      "fold 1 iter 8 0.62419410423\n",
      "fold 1 iter 9 0.624259715906\n",
      "\n",
      "Training fold 2\n"
     ]
    },
    {
     "name": "stderr",
     "output_type": "stream",
     "text": [
      "/root/miniconda3/lib/python3.6/site-packages/sklearn/feature_selection/univariate_selection.py:113: UserWarning: Features [0 0 0 0 0 0 0 0 0] are constant.\n",
      "  UserWarning)\n"
     ]
    },
    {
     "name": "stdout",
     "output_type": "stream",
     "text": [
      "shape:  (342395, 236719)\n",
      "max:  1.0\n",
      "fold 2 iter 0 0.599201625644\n",
      "fold 2 iter 1 0.610638004024\n",
      "fold 2 iter 2 0.615236038079\n",
      "fold 2 iter 3 0.617607207965\n",
      "fold 2 iter 4 0.619292308995\n",
      "fold 2 iter 5 0.620113070531\n",
      "fold 2 iter 6 0.620598181196\n",
      "fold 2 iter 7 0.620722290214\n",
      "fold 2 iter 8 0.62063000989\n",
      "fold 2 iter 9 0.620417132893\n",
      "\n",
      "Training fold 3\n"
     ]
    },
    {
     "name": "stderr",
     "output_type": "stream",
     "text": [
      "/root/miniconda3/lib/python3.6/site-packages/sklearn/feature_selection/univariate_selection.py:113: UserWarning: Features [0 0 0 0 0 0 0 0 0 0] are constant.\n",
      "  UserWarning)\n"
     ]
    },
    {
     "name": "stdout",
     "output_type": "stream",
     "text": [
      "shape:  (342395, 236719)\n",
      "max:  1.0\n",
      "fold 3 iter 0 0.60197179579\n",
      "fold 3 iter 1 0.612349586578\n",
      "fold 3 iter 2 0.617617231583\n",
      "fold 3 iter 3 0.619023337766\n",
      "fold 3 iter 4 0.621242602005\n",
      "fold 3 iter 5 0.62236564823\n",
      "fold 3 iter 6 0.623048100806\n",
      "fold 3 iter 7 0.623421666298\n",
      "fold 3 iter 8 0.623494053203\n",
      "fold 3 iter 9 0.623387431209\n",
      "\n",
      "Training fold 4\n",
      "shape:  (342396, 236719)\n",
      "max:  1.0\n",
      "fold 4 iter 0 0.601985008291\n",
      "fold 4 iter 1 0.612500645325\n",
      "fold 4 iter 2 0.617495885733\n",
      "fold 4 iter 3 0.620389048213\n",
      "fold 4 iter 4 0.621996475522\n",
      "fold 4 iter 5 0.622954766686\n",
      "fold 4 iter 6 0.623550029009\n",
      "fold 4 iter 7 0.624005064749\n",
      "fold 4 iter 8 0.624154916586\n",
      "fold 4 iter 9 0.624106561798\n",
      "\n",
      "[0.62273446261364562, 0.62425971590589535, 0.62041713289317291, 0.6233874312088854, 0.62410656179811974]\n",
      "0.622981060884 0.00139293828024\n",
      "0.622924063126\n",
      "isnull? False\n"
     ]
    },
    {
     "data": {
      "text/html": [
       "<div>\n",
       "<style scoped>\n",
       "    .dataframe tbody tr th:only-of-type {\n",
       "        vertical-align: middle;\n",
       "    }\n",
       "\n",
       "    .dataframe tbody tr th {\n",
       "        vertical-align: top;\n",
       "    }\n",
       "\n",
       "    .dataframe thead th {\n",
       "        text-align: right;\n",
       "    }\n",
       "</style>\n",
       "<table border=\"1\" class=\"dataframe\">\n",
       "  <thead>\n",
       "    <tr style=\"text-align: right;\">\n",
       "      <th></th>\n",
       "      <th>cuid</th>\n",
       "      <th>target</th>\n",
       "    </tr>\n",
       "  </thead>\n",
       "  <tbody>\n",
       "    <tr>\n",
       "      <th>0</th>\n",
       "      <td>888b238b4d14c03173baa375a739f6bc</td>\n",
       "      <td>0.007802</td>\n",
       "    </tr>\n",
       "    <tr>\n",
       "      <th>1</th>\n",
       "      <td>ac4b8244f3ae82df511b002257473c11</td>\n",
       "      <td>0.075282</td>\n",
       "    </tr>\n",
       "    <tr>\n",
       "      <th>2</th>\n",
       "      <td>483d8b91e49522c8a5bbe37f3872c749</td>\n",
       "      <td>0.074491</td>\n",
       "    </tr>\n",
       "    <tr>\n",
       "      <th>3</th>\n",
       "      <td>4c7ec46a0e88a7e1e1cedd2d526d5d61</td>\n",
       "      <td>0.061084</td>\n",
       "    </tr>\n",
       "    <tr>\n",
       "      <th>4</th>\n",
       "      <td>fdbfba9842ff0bf86d600eb334c7c42b</td>\n",
       "      <td>0.054119</td>\n",
       "    </tr>\n",
       "  </tbody>\n",
       "</table>\n",
       "</div>"
      ],
      "text/plain": [
       "                               cuid    target\n",
       "0  888b238b4d14c03173baa375a739f6bc  0.007802\n",
       "1  ac4b8244f3ae82df511b002257473c11  0.075282\n",
       "2  483d8b91e49522c8a5bbe37f3872c749  0.074491\n",
       "3  4c7ec46a0e88a7e1e1cedd2d526d5d61  0.061084\n",
       "4  fdbfba9842ff0bf86d600eb334c7c42b  0.054119"
      ]
     },
     "execution_count": 29,
     "metadata": {},
     "output_type": "execute_result"
    }
   ],
   "source": [
    "from sklearn.model_selection import KFold\n",
    "n_folds = 5\n",
    "kf = KFold(n_splits=n_folds, shuffle=True, random_state=72391)\n",
    "pred = np.zeros(y.shape)\n",
    "test_pred = 0\n",
    "ifold = 0\n",
    "\n",
    "fold_auc = []\n",
    "y = X.target.values\n",
    "\n",
    "from wordbatch.models import FM_FTRL\n",
    "from sklearn.feature_selection import SelectPercentile\n",
    "cpu_cores = 4\n",
    "for trn_inx, val_inx in kf.split(y):\n",
    "    print(\"Training fold {}\".format(ifold))\n",
    "    y_tr,y_va = y[trn_inx],y[val_inx]\n",
    "    X_tr = X.loc[:, train_cols].fillna(0).values[trn_inx]\n",
    "    X_va = X.loc[:, train_cols].fillna(0).values[val_inx]\n",
    "    X_te = x_te.loc[:,train_cols].fillna(0).values\n",
    "    \n",
    "    yy = y_tr\n",
    "    ssp = SelectPercentile(percentile=70)  \n",
    "    ssp.fit(train_mat[trn_inx], yy)\n",
    "    sp_train_mat = ssp.transform(train_mat[trn_inx])\n",
    "    sp_val_mat = ssp.transform(train_mat[val_inx])\n",
    "    sp_test_mat = ssp.transform(test_mat)  \n",
    "    print('shape: ',sp_train_mat.shape)\n",
    "    print('max: ',sp_train_mat.max())\n",
    "    \n",
    "    from sklearn.preprocessing import StandardScaler\n",
    "    scaler = StandardScaler()\n",
    "    scaler.fit(X_tr)\n",
    "    X_tr = scaler.transform(X_tr)\n",
    "    X_va = scaler.transform(X_va)\n",
    "    X_te = scaler.transform(X_te)\n",
    "    del scaler\n",
    "    \n",
    "    trn_seq = sp.hstack([X_tr, sp_train_mat])\n",
    "    val_seq = sp.hstack([X_va, sp_val_mat])\n",
    "    te_seq = sp.hstack([X_te, sp_test_mat])\n",
    "    \n",
    "    model = FM_FTRL(alpha=0.02, beta=0.01, L1=0.000001, L2=0.001, D=trn_seq.shape[1], alpha_fm=0.03, L2_fm=0.005, init_fm=0.2,\n",
    "                           D_fm=30, e_noise=0.0000002, iters=1, inv_link=\"sigmoid\", threads=8)\n",
    "    score = 0\n",
    "    for i in range(10):\n",
    "        model.fit(trn_seq, y_tr)\n",
    "        yhat = model.predict(val_seq).ravel()\n",
    "        if (np.isnan(yhat).any()):\n",
    "            print(':(')\n",
    "            break\n",
    "        pred[val_inx] = yhat\n",
    "        score = roc_auc_score(y_va,yhat)\n",
    "        print('fold',ifold,'iter', i, score)\n",
    "    \n",
    "    fold_auc.append(score)\n",
    "    print()\n",
    "    \n",
    "    test_pred += model.predict(te_seq).ravel()/n_folds\n",
    "    ifold += 1\n",
    "    gc.collect()\n",
    "print(fold_auc)\n",
    "print(np.mean(fold_auc), np.std(fold_auc))\n",
    "print(roc_auc_score(X.target.values, pred))\n",
    "model_name = 'ftrl_70'\n",
    "np.save(results_dir + 'train_' + model_name +'.npy', pred)\n",
    "sample_sub = pd.read_table(data_dir+'mlboot_test.tsv')\n",
    "sub = x_te[['uid','target']].copy()\n",
    "sub['target'] = test_pred\n",
    "sub.columns = ['cuid','target']\n",
    "sample_sub = sample_sub.merge(sub, on='cuid', how='left')\n",
    "np.save(results_dir + 'test_' + model_name +'.npy', sample_sub.target.values)\n",
    "print('isnull?',sample_sub.target.isnull().any())\n",
    "sample_sub.head()"
   ]
  },
  {
   "cell_type": "code",
   "execution_count": null,
   "metadata": {},
   "outputs": [],
   "source": []
  }
 ],
 "metadata": {
  "kernelspec": {
   "display_name": "Python 3",
   "language": "python",
   "name": "python3"
  },
  "language_info": {
   "codemirror_mode": {
    "name": "ipython",
    "version": 3
   },
   "file_extension": ".py",
   "mimetype": "text/x-python",
   "name": "python",
   "nbconvert_exporter": "python",
   "pygments_lexer": "ipython3",
   "version": "3.6.2"
  }
 },
 "nbformat": 4,
 "nbformat_minor": 2
}

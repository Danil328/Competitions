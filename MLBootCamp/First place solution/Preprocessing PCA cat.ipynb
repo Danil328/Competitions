{
 "cells": [
  {
   "cell_type": "code",
   "execution_count": 1,
   "metadata": {},
   "outputs": [],
   "source": [
    "data_dir = './data/mlboot_dataset/'\n",
    "results_dir = './results/'\n",
    "import pandas as pd\n",
    "train = pd.read_table(data_dir + 'mlboot_data.tsv', header=None, names=['uid','cat','f1','f2','f3','days'], usecols=['uid','cat'])"
   ]
  },
  {
   "cell_type": "code",
   "execution_count": 2,
   "metadata": {},
   "outputs": [],
   "source": [
    "import scipy.sparse as sp\n",
    "import numpy as np\n",
    "\n",
    "mat1 = sp.load_npz(data_dir+'mat1.npz')\n",
    "mat2 = sp.load_npz(data_dir+'mat2.npz')\n",
    "mat3 = sp.load_npz(data_dir+'mat3.npz')"
   ]
  },
  {
   "cell_type": "code",
   "execution_count": 3,
   "metadata": {},
   "outputs": [
    {
     "data": {
      "text/plain": [
       "(19528597, 1)"
      ]
     },
     "execution_count": 3,
     "metadata": {},
     "output_type": "execute_result"
    }
   ],
   "source": [
    "train.cat.values.reshape(-1,1).shape"
   ]
  },
  {
   "cell_type": "code",
   "execution_count": 4,
   "metadata": {},
   "outputs": [],
   "source": [
    "mat = sp.hstack([train.cat.values.reshape(-1,1), mat1, mat2, mat3])\n",
    "del train, mat1, mat2, mat3"
   ]
  },
  {
   "cell_type": "code",
   "execution_count": 5,
   "metadata": {},
   "outputs": [
    {
     "name": "stdout",
     "output_type": "stream",
     "text": [
      "pca on matrix 10\n",
      "pca on matrix 100\n"
     ]
    }
   ],
   "source": [
    "from sklearn.decomposition import TruncatedSVD\n",
    "print('pca on matrix 10')\n",
    "pca = TruncatedSVD(n_components = 10, algorithm='arpack')\n",
    "mat_pca10 = pca.fit_transform(mat.astype(np.float32))\n",
    "print('pca on matrix 100')\n",
    "pca = TruncatedSVD(n_components = 100, algorithm='arpack')\n",
    "mat_pca100 = pca.fit_transform(mat.astype(np.float32))\n",
    "#print('pca on matrix 300')\n",
    "#pca = TruncatedSVD(algorithm='randomized', n_components = 100, n_iter=10)\n",
    "#mat_pca300 = pca.fit_transform(mat.astype(np.float32))"
   ]
  },
  {
   "cell_type": "code",
   "execution_count": 6,
   "metadata": {},
   "outputs": [
    {
     "data": {
      "text/plain": [
       "0"
      ]
     },
     "execution_count": 6,
     "metadata": {},
     "output_type": "execute_result"
    }
   ],
   "source": [
    "import gc\n",
    "del mat,pca\n",
    "gc.collect()"
   ]
  },
  {
   "cell_type": "code",
   "execution_count": null,
   "metadata": {},
   "outputs": [
    {
     "name": "stderr",
     "output_type": "stream",
     "text": [
      " 37%|███▋      | 7157749/19528597 [00:31<00:53, 229543.54it/s]"
     ]
    }
   ],
   "source": [
    "import tqdm\n",
    "train = pd.read_table(data_dir + 'mlboot_data.tsv', header=None, names=['uid','cat','f1','f2','f3','days'], usecols=['uid','cat'])\n",
    "lunique = train.uid.unique()\n",
    "\n",
    "N = len(train)\n",
    "M = len(lunique)\n",
    "mask=sp.lil_matrix((M,N),dtype=np.int8)\n",
    "row = -1\n",
    "i = 0\n",
    "last_uid = 'a'\n",
    "for cuid in tqdm.tqdm(train.uid):\n",
    "    if last_uid != cuid:\n",
    "        last_uid = cuid\n",
    "        row += 1\n",
    "    mask[row,i] = 1\n",
    "    i = i + 1"
   ]
  },
  {
   "cell_type": "code",
   "execution_count": null,
   "metadata": {},
   "outputs": [],
   "source": [
    "mat_pca10 = (mask*mat_pca10)\n",
    "np.save(data_dir+'pca_dim10.npy', mat_pca10)\n",
    "mat_pca100 = (mask*mat_pca100)\n",
    "np.save(data_dir+'pca_dim100.npy', mat_pca100)"
   ]
  },
  {
   "cell_type": "code",
   "execution_count": null,
   "metadata": {},
   "outputs": [],
   "source": []
  }
 ],
 "metadata": {
  "kernelspec": {
   "display_name": "Python 3",
   "language": "python",
   "name": "python3"
  },
  "language_info": {
   "codemirror_mode": {
    "name": "ipython",
    "version": 3
   },
   "file_extension": ".py",
   "mimetype": "text/x-python",
   "name": "python",
   "nbconvert_exporter": "python",
   "pygments_lexer": "ipython3",
   "version": "3.6.2"
  }
 },
 "nbformat": 4,
 "nbformat_minor": 2
}

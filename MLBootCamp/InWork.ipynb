{
 "cells": [
  {
   "cell_type": "code",
   "execution_count": 1,
   "metadata": {},
   "outputs": [],
   "source": [
    "import pandas as pd\n",
    "import numpy as np\n",
    "import seaborn as sns\n",
    "import os\n",
    "from sklearn.model_selection import train_test_split, cross_val_score\n",
    "from sklearn.preprocessing import OneHotEncoder, StandardScaler, Normalizer\n",
    "from sklearn.metrics import roc_auc_score\n",
    "import json\n",
    "from tqdm import tqdm\n",
    "import matplotlib.pyplot as plt\n",
    "from scipy.sparse import csr_matrix\n",
    "from scipy.sparse import hstack, vstack\n",
    "from sklearn.linear_model import LogisticRegression\n",
    "\n",
    "from collections import OrderedDict\n",
    "from operator import itemgetter\n",
    "%matplotlib inline\n",
    "from sklearn.feature_extraction.text import TfidfVectorizer\n",
    "from sklearn.feature_extraction import DictVectorizer\n",
    "\n",
    "PATH = './data/'"
   ]
  },
  {
   "cell_type": "code",
   "execution_count": 2,
   "metadata": {},
   "outputs": [],
   "source": [
    "train_df = pd.read_csv(os.path.join(PATH, 'train_sample.csv'), nrows=200000)"
   ]
  },
  {
   "cell_type": "code",
   "execution_count": 3,
   "metadata": {},
   "outputs": [
    {
     "data": {
      "text/plain": [
       "(200000, 6)"
      ]
     },
     "execution_count": 3,
     "metadata": {},
     "output_type": "execute_result"
    }
   ],
   "source": [
    "train_df.shape"
   ]
  },
  {
   "cell_type": "code",
   "execution_count": 4,
   "metadata": {},
   "outputs": [],
   "source": [
    "train_df = train_df.join(pd.read_csv(os.path.join(PATH,'mlboot_train_answers.tsv'), delimiter='\\t').set_index('cuid'), on='cuid', how='inner')"
   ]
  },
  {
   "cell_type": "code",
   "execution_count": 5,
   "metadata": {},
   "outputs": [
    {
     "data": {
      "text/html": [
       "<div>\n",
       "<style scoped>\n",
       "    .dataframe tbody tr th:only-of-type {\n",
       "        vertical-align: middle;\n",
       "    }\n",
       "\n",
       "    .dataframe tbody tr th {\n",
       "        vertical-align: top;\n",
       "    }\n",
       "\n",
       "    .dataframe thead th {\n",
       "        text-align: right;\n",
       "    }\n",
       "</style>\n",
       "<table border=\"1\" class=\"dataframe\">\n",
       "  <thead>\n",
       "    <tr style=\"text-align: right;\">\n",
       "      <th></th>\n",
       "      <th>cuid</th>\n",
       "      <th>cat</th>\n",
       "      <th>cnt1</th>\n",
       "      <th>cnt2</th>\n",
       "      <th>cnt3</th>\n",
       "      <th>data_diff</th>\n",
       "      <th>target</th>\n",
       "    </tr>\n",
       "  </thead>\n",
       "  <tbody>\n",
       "    <tr>\n",
       "      <th>0</th>\n",
       "      <td>d241d1f6f360965c303a30f8b471b095</td>\n",
       "      <td>1</td>\n",
       "      <td>{\"2025582\":1,\"2048310\":2,\"651030\":1,\"1108422\":...</td>\n",
       "      <td>{\"31297\":1,\"28598\":1,\"504988\":1,\"6498\":1,\"1438...</td>\n",
       "      <td>{}</td>\n",
       "      <td>15</td>\n",
       "      <td>0</td>\n",
       "    </tr>\n",
       "    <tr>\n",
       "      <th>1</th>\n",
       "      <td>d241d1f6f360965c303a30f8b471b095</td>\n",
       "      <td>1</td>\n",
       "      <td>{\"38462\":2,\"2048310\":3,\"1108422\":1,\"2025582\":1...</td>\n",
       "      <td>{\"264772\":2,\"124932\":2,\"31297\":1,\"19791\":1,\"18...</td>\n",
       "      <td>{}</td>\n",
       "      <td>16</td>\n",
       "      <td>0</td>\n",
       "    </tr>\n",
       "    <tr>\n",
       "      <th>2</th>\n",
       "      <td>d241d1f6f360965c303a30f8b471b095</td>\n",
       "      <td>1</td>\n",
       "      <td>{\"2025582\":4}</td>\n",
       "      <td>{\"552308\":3,\"186181\":2,\"28598\":4,\"504988\":3,\"1...</td>\n",
       "      <td>{}</td>\n",
       "      <td>17</td>\n",
       "      <td>0</td>\n",
       "    </tr>\n",
       "    <tr>\n",
       "      <th>3</th>\n",
       "      <td>d241d1f6f360965c303a30f8b471b095</td>\n",
       "      <td>1</td>\n",
       "      <td>{\"304818\":2,\"815630\":1,\"2048310\":4,\"1108422\":1...</td>\n",
       "      <td>{\"124932\":2,\"31297\":1,\"186181\":2,\"14263\":1,\"59...</td>\n",
       "      <td>{}</td>\n",
       "      <td>18</td>\n",
       "      <td>0</td>\n",
       "    </tr>\n",
       "    <tr>\n",
       "      <th>4</th>\n",
       "      <td>d241d1f6f360965c303a30f8b471b095</td>\n",
       "      <td>1</td>\n",
       "      <td>{\"1184422\":1,\"2048310\":4,\"809001\":1,\"2025582\":...</td>\n",
       "      <td>{\"31297\":1,\"19791\":1,\"186181\":2,\"599535\":2,\"97...</td>\n",
       "      <td>{}</td>\n",
       "      <td>19</td>\n",
       "      <td>0</td>\n",
       "    </tr>\n",
       "  </tbody>\n",
       "</table>\n",
       "</div>"
      ],
      "text/plain": [
       "                               cuid  cat  \\\n",
       "0  d241d1f6f360965c303a30f8b471b095    1   \n",
       "1  d241d1f6f360965c303a30f8b471b095    1   \n",
       "2  d241d1f6f360965c303a30f8b471b095    1   \n",
       "3  d241d1f6f360965c303a30f8b471b095    1   \n",
       "4  d241d1f6f360965c303a30f8b471b095    1   \n",
       "\n",
       "                                                cnt1  \\\n",
       "0  {\"2025582\":1,\"2048310\":2,\"651030\":1,\"1108422\":...   \n",
       "1  {\"38462\":2,\"2048310\":3,\"1108422\":1,\"2025582\":1...   \n",
       "2                                      {\"2025582\":4}   \n",
       "3  {\"304818\":2,\"815630\":1,\"2048310\":4,\"1108422\":1...   \n",
       "4  {\"1184422\":1,\"2048310\":4,\"809001\":1,\"2025582\":...   \n",
       "\n",
       "                                                cnt2 cnt3  data_diff  target  \n",
       "0  {\"31297\":1,\"28598\":1,\"504988\":1,\"6498\":1,\"1438...   {}         15       0  \n",
       "1  {\"264772\":2,\"124932\":2,\"31297\":1,\"19791\":1,\"18...   {}         16       0  \n",
       "2  {\"552308\":3,\"186181\":2,\"28598\":4,\"504988\":3,\"1...   {}         17       0  \n",
       "3  {\"124932\":2,\"31297\":1,\"186181\":2,\"14263\":1,\"59...   {}         18       0  \n",
       "4  {\"31297\":1,\"19791\":1,\"186181\":2,\"599535\":2,\"97...   {}         19       0  "
      ]
     },
     "execution_count": 5,
     "metadata": {},
     "output_type": "execute_result"
    }
   ],
   "source": [
    "train_df.head()"
   ]
  },
  {
   "cell_type": "markdown",
   "metadata": {},
   "source": [
    "** tf-idf **\n",
    "Номер счетчика + значение"
   ]
  },
  {
   "cell_type": "code",
   "execution_count": 310,
   "metadata": {},
   "outputs": [],
   "source": [
    "train_df['cnt1'] = train_df['cnt1'].apply(lambda x: x[1:-1])"
   ]
  },
  {
   "cell_type": "code",
   "execution_count": 311,
   "metadata": {},
   "outputs": [],
   "source": [
    "tokenizer = lambda doc: doc[1:-1].split(',')\n",
    "tf_idf = TfidfVectorizer(tokenizer = tokenizer, max_df = 0.70, min_df = 0.01, ngram_range=(1,1))"
   ]
  },
  {
   "cell_type": "code",
   "execution_count": 312,
   "metadata": {},
   "outputs": [],
   "source": [
    "new_df_cnt1 = train_df.groupby(['cuid'])['cnt1'].sum()\n",
    "tf_idf_cnt1 = tf_idf.fit_transform(new_df_cnt1)"
   ]
  },
  {
   "cell_type": "code",
   "execution_count": 313,
   "metadata": {},
   "outputs": [],
   "source": [
    "target = train_df.groupby(['cuid'])['target'].min()"
   ]
  },
  {
   "cell_type": "code",
   "execution_count": 315,
   "metadata": {},
   "outputs": [],
   "source": [
    "X_train, X_test, y_train, y_test = train_test_split(tf_idf_cnt1, target, test_size=0.2, random_state=17)\n",
    "n = Normalizer()\n",
    "X_train = n.fit_transform(X_train)\n",
    "X_test = n.transform(X_test)"
   ]
  },
  {
   "cell_type": "code",
   "execution_count": 316,
   "metadata": {},
   "outputs": [
    {
     "name": "stdout",
     "output_type": "stream",
     "text": [
      "0.5593467681568368 0.020877833285020797\n",
      "0.5463620673994004\n"
     ]
    }
   ],
   "source": [
    "lr = LogisticRegression(penalty='l2', C=1)\n",
    "cv = cross_val_score(lr,X_train, y_train, scoring='roc_auc', cv=5, n_jobs=-1)\n",
    "print (cv.mean(), cv.std())\n",
    "lr.fit(X_train,y_train)\n",
    "pred = lr.predict_proba(X_test)\n",
    "print (roc_auc_score(y_test,pred[:, 1]))"
   ]
  },
  {
   "cell_type": "markdown",
   "metadata": {},
   "source": [
    "** tf-idf2 **\n",
    "Смотрим просто номер счетчика"
   ]
  },
  {
   "cell_type": "code",
   "execution_count": 146,
   "metadata": {},
   "outputs": [],
   "source": [
    "import re"
   ]
  },
  {
   "cell_type": "code",
   "execution_count": 147,
   "metadata": {},
   "outputs": [],
   "source": [
    "train_df['cnt1'] = train_df['cnt1'].apply(lambda x: ' '.join(re.findall(r'\"\\d+\"', x)))"
   ]
  },
  {
   "cell_type": "code",
   "execution_count": 148,
   "metadata": {},
   "outputs": [],
   "source": [
    "tokenizer = lambda doc: doc[1:-1].split(' ')\n",
    "tf_idf = TfidfVectorizer(tokenizer = tokenizer, max_df = 0.75, min_df = 0.01, ngram_range=(1,1))\n",
    "\n",
    "tf_idf_cnt1 = tf_idf.fit_transform(train_df.groupby(['cuid'])['cnt1'].sum())"
   ]
  },
  {
   "cell_type": "code",
   "execution_count": 149,
   "metadata": {},
   "outputs": [
    {
     "name": "stdout",
     "output_type": "stream",
     "text": [
      "0.558682240718854 0.03188071548519023\n",
      "0.6002634208374965\n"
     ]
    }
   ],
   "source": [
    "X_train, X_test, y_train, y_test = train_test_split(tf_idf_cnt1, train_df.groupby(['cuid'])['target'].min(), test_size=0.2, random_state=17)\n",
    "lr = LogisticRegression(penalty='l2', C=1)\n",
    "cv = cross_val_score(lr,X_train, y_train, scoring='roc_auc', cv=5, n_jobs=-1)\n",
    "print (cv.mean(), cv.std())\n",
    "lr.fit(X_train,y_train)\n",
    "pred = lr.predict_proba(X_test)\n",
    "print (roc_auc_score(y_test,pred[:, 1]))"
   ]
  },
  {
   "cell_type": "markdown",
   "metadata": {},
   "source": [
    "** А если ещё отсортировать **"
   ]
  },
  {
   "cell_type": "code",
   "execution_count": 150,
   "metadata": {},
   "outputs": [
    {
     "data": {
      "text/html": [
       "<div>\n",
       "<style scoped>\n",
       "    .dataframe tbody tr th:only-of-type {\n",
       "        vertical-align: middle;\n",
       "    }\n",
       "\n",
       "    .dataframe tbody tr th {\n",
       "        vertical-align: top;\n",
       "    }\n",
       "\n",
       "    .dataframe thead th {\n",
       "        text-align: right;\n",
       "    }\n",
       "</style>\n",
       "<table border=\"1\" class=\"dataframe\">\n",
       "  <thead>\n",
       "    <tr style=\"text-align: right;\">\n",
       "      <th></th>\n",
       "      <th>cuid</th>\n",
       "      <th>cat</th>\n",
       "      <th>cnt1</th>\n",
       "      <th>cnt2</th>\n",
       "      <th>cnt3</th>\n",
       "      <th>data_diff</th>\n",
       "      <th>target</th>\n",
       "    </tr>\n",
       "  </thead>\n",
       "  <tbody>\n",
       "    <tr>\n",
       "      <th>0</th>\n",
       "      <td>d241d1f6f360965c303a30f8b471b095</td>\n",
       "      <td>1</td>\n",
       "      <td>\"2025582\" \"2048310\" \"651030\" \"1108422\" \"412027\"</td>\n",
       "      <td>{\"31297\":1,\"28598\":1,\"504988\":1,\"6498\":1,\"1438...</td>\n",
       "      <td>{}</td>\n",
       "      <td>15</td>\n",
       "      <td>0</td>\n",
       "    </tr>\n",
       "    <tr>\n",
       "      <th>1</th>\n",
       "      <td>d241d1f6f360965c303a30f8b471b095</td>\n",
       "      <td>1</td>\n",
       "      <td>\"38462\" \"2048310\" \"1108422\" \"2025582\" \"1661409...</td>\n",
       "      <td>{\"264772\":2,\"124932\":2,\"31297\":1,\"19791\":1,\"18...</td>\n",
       "      <td>{}</td>\n",
       "      <td>16</td>\n",
       "      <td>0</td>\n",
       "    </tr>\n",
       "    <tr>\n",
       "      <th>2</th>\n",
       "      <td>d241d1f6f360965c303a30f8b471b095</td>\n",
       "      <td>1</td>\n",
       "      <td>\"2025582\"</td>\n",
       "      <td>{\"552308\":3,\"186181\":2,\"28598\":4,\"504988\":3,\"1...</td>\n",
       "      <td>{}</td>\n",
       "      <td>17</td>\n",
       "      <td>0</td>\n",
       "    </tr>\n",
       "    <tr>\n",
       "      <th>3</th>\n",
       "      <td>d241d1f6f360965c303a30f8b471b095</td>\n",
       "      <td>1</td>\n",
       "      <td>\"304818\" \"815630\" \"2048310\" \"1108422\" \"2025582...</td>\n",
       "      <td>{\"124932\":2,\"31297\":1,\"186181\":2,\"14263\":1,\"59...</td>\n",
       "      <td>{}</td>\n",
       "      <td>18</td>\n",
       "      <td>0</td>\n",
       "    </tr>\n",
       "    <tr>\n",
       "      <th>4</th>\n",
       "      <td>d241d1f6f360965c303a30f8b471b095</td>\n",
       "      <td>1</td>\n",
       "      <td>\"1184422\" \"2048310\" \"809001\" \"2025582\" \"38462\"...</td>\n",
       "      <td>{\"31297\":1,\"19791\":1,\"186181\":2,\"599535\":2,\"97...</td>\n",
       "      <td>{}</td>\n",
       "      <td>19</td>\n",
       "      <td>0</td>\n",
       "    </tr>\n",
       "  </tbody>\n",
       "</table>\n",
       "</div>"
      ],
      "text/plain": [
       "                               cuid  cat  \\\n",
       "0  d241d1f6f360965c303a30f8b471b095    1   \n",
       "1  d241d1f6f360965c303a30f8b471b095    1   \n",
       "2  d241d1f6f360965c303a30f8b471b095    1   \n",
       "3  d241d1f6f360965c303a30f8b471b095    1   \n",
       "4  d241d1f6f360965c303a30f8b471b095    1   \n",
       "\n",
       "                                                cnt1  \\\n",
       "0    \"2025582\" \"2048310\" \"651030\" \"1108422\" \"412027\"   \n",
       "1  \"38462\" \"2048310\" \"1108422\" \"2025582\" \"1661409...   \n",
       "2                                          \"2025582\"   \n",
       "3  \"304818\" \"815630\" \"2048310\" \"1108422\" \"2025582...   \n",
       "4  \"1184422\" \"2048310\" \"809001\" \"2025582\" \"38462\"...   \n",
       "\n",
       "                                                cnt2 cnt3  data_diff  target  \n",
       "0  {\"31297\":1,\"28598\":1,\"504988\":1,\"6498\":1,\"1438...   {}         15       0  \n",
       "1  {\"264772\":2,\"124932\":2,\"31297\":1,\"19791\":1,\"18...   {}         16       0  \n",
       "2  {\"552308\":3,\"186181\":2,\"28598\":4,\"504988\":3,\"1...   {}         17       0  \n",
       "3  {\"124932\":2,\"31297\":1,\"186181\":2,\"14263\":1,\"59...   {}         18       0  \n",
       "4  {\"31297\":1,\"19791\":1,\"186181\":2,\"599535\":2,\"97...   {}         19       0  "
      ]
     },
     "execution_count": 150,
     "metadata": {},
     "output_type": "execute_result"
    }
   ],
   "source": [
    "train_df.head()"
   ]
  },
  {
   "cell_type": "code",
   "execution_count": 151,
   "metadata": {},
   "outputs": [],
   "source": [
    "train_df.sort_values(by='data_diff', ascending=True, inplace=True)"
   ]
  },
  {
   "cell_type": "code",
   "execution_count": 152,
   "metadata": {},
   "outputs": [],
   "source": [
    "tf_idf = TfidfVectorizer(tokenizer = tokenizer, max_df = 0.75, min_df = 0.01, ngram_range=(1,1))\n",
    "\n",
    "new_df_cnt1 = train_df.groupby(['cuid'])['cnt1'].sum()\n",
    "tf_idf_cnt1 = tf_idf.fit_transform(new_df_cnt1)"
   ]
  },
  {
   "cell_type": "code",
   "execution_count": 153,
   "metadata": {},
   "outputs": [
    {
     "name": "stdout",
     "output_type": "stream",
     "text": [
      "0.5587867383061891 0.032211563928363544\n",
      "0.5989735670814788\n"
     ]
    }
   ],
   "source": [
    "X_train, X_test, y_train, y_test = train_test_split(tf_idf_cnt1, train_df.groupby(['cuid'])['target'].min(), test_size=0.2, random_state=17)\n",
    "lr = LogisticRegression(penalty='l2', C=1)\n",
    "cv = cross_val_score(lr,X_train, y_train, scoring='roc_auc', cv=5, n_jobs=-1)\n",
    "print (cv.mean(), cv.std())\n",
    "lr.fit(X_train,y_train)\n",
    "pred = lr.predict_proba(X_test)\n",
    "print (roc_auc_score(y_test,pred[:, 1]))"
   ]
  },
  {
   "cell_type": "markdown",
   "metadata": {},
   "source": [
    "** DictVectorizer **"
   ]
  },
  {
   "cell_type": "code",
   "execution_count": 7,
   "metadata": {},
   "outputs": [],
   "source": [
    "train_df = pd.read_csv(os.path.join(PATH, 'train_sample.csv'), nrows=200000)\n",
    "train_df = train_df.join(pd.read_csv(os.path.join(PATH,'mlboot_train_answers.tsv'), delimiter='\\t').set_index('cuid'), on='cuid', how='inner')"
   ]
  },
  {
   "cell_type": "code",
   "execution_count": 8,
   "metadata": {},
   "outputs": [
    {
     "data": {
      "text/html": [
       "<div>\n",
       "<style scoped>\n",
       "    .dataframe tbody tr th:only-of-type {\n",
       "        vertical-align: middle;\n",
       "    }\n",
       "\n",
       "    .dataframe tbody tr th {\n",
       "        vertical-align: top;\n",
       "    }\n",
       "\n",
       "    .dataframe thead th {\n",
       "        text-align: right;\n",
       "    }\n",
       "</style>\n",
       "<table border=\"1\" class=\"dataframe\">\n",
       "  <thead>\n",
       "    <tr style=\"text-align: right;\">\n",
       "      <th></th>\n",
       "      <th>cuid</th>\n",
       "      <th>cat</th>\n",
       "      <th>cnt1</th>\n",
       "      <th>cnt2</th>\n",
       "      <th>cnt3</th>\n",
       "      <th>data_diff</th>\n",
       "      <th>target</th>\n",
       "      <th>int_id</th>\n",
       "    </tr>\n",
       "  </thead>\n",
       "  <tbody>\n",
       "    <tr>\n",
       "      <th>0</th>\n",
       "      <td>d241d1f6f360965c303a30f8b471b095</td>\n",
       "      <td>1</td>\n",
       "      <td>{\"2025582\":1,\"2048310\":2,\"651030\":1,\"1108422\":...</td>\n",
       "      <td>{\"31297\":1,\"28598\":1,\"504988\":1,\"6498\":1,\"1438...</td>\n",
       "      <td>{}</td>\n",
       "      <td>15</td>\n",
       "      <td>0</td>\n",
       "      <td>0</td>\n",
       "    </tr>\n",
       "    <tr>\n",
       "      <th>1</th>\n",
       "      <td>d241d1f6f360965c303a30f8b471b095</td>\n",
       "      <td>1</td>\n",
       "      <td>{\"38462\":2,\"2048310\":3,\"1108422\":1,\"2025582\":1...</td>\n",
       "      <td>{\"264772\":2,\"124932\":2,\"31297\":1,\"19791\":1,\"18...</td>\n",
       "      <td>{}</td>\n",
       "      <td>16</td>\n",
       "      <td>0</td>\n",
       "      <td>1</td>\n",
       "    </tr>\n",
       "    <tr>\n",
       "      <th>2</th>\n",
       "      <td>d241d1f6f360965c303a30f8b471b095</td>\n",
       "      <td>1</td>\n",
       "      <td>{\"2025582\":4}</td>\n",
       "      <td>{\"552308\":3,\"186181\":2,\"28598\":4,\"504988\":3,\"1...</td>\n",
       "      <td>{}</td>\n",
       "      <td>17</td>\n",
       "      <td>0</td>\n",
       "      <td>2</td>\n",
       "    </tr>\n",
       "    <tr>\n",
       "      <th>3</th>\n",
       "      <td>d241d1f6f360965c303a30f8b471b095</td>\n",
       "      <td>1</td>\n",
       "      <td>{\"304818\":2,\"815630\":1,\"2048310\":4,\"1108422\":1...</td>\n",
       "      <td>{\"124932\":2,\"31297\":1,\"186181\":2,\"14263\":1,\"59...</td>\n",
       "      <td>{}</td>\n",
       "      <td>18</td>\n",
       "      <td>0</td>\n",
       "      <td>3</td>\n",
       "    </tr>\n",
       "    <tr>\n",
       "      <th>4</th>\n",
       "      <td>d241d1f6f360965c303a30f8b471b095</td>\n",
       "      <td>1</td>\n",
       "      <td>{\"1184422\":1,\"2048310\":4,\"809001\":1,\"2025582\":...</td>\n",
       "      <td>{\"31297\":1,\"19791\":1,\"186181\":2,\"599535\":2,\"97...</td>\n",
       "      <td>{}</td>\n",
       "      <td>19</td>\n",
       "      <td>0</td>\n",
       "      <td>4</td>\n",
       "    </tr>\n",
       "  </tbody>\n",
       "</table>\n",
       "</div>"
      ],
      "text/plain": [
       "                               cuid  cat  \\\n",
       "0  d241d1f6f360965c303a30f8b471b095    1   \n",
       "1  d241d1f6f360965c303a30f8b471b095    1   \n",
       "2  d241d1f6f360965c303a30f8b471b095    1   \n",
       "3  d241d1f6f360965c303a30f8b471b095    1   \n",
       "4  d241d1f6f360965c303a30f8b471b095    1   \n",
       "\n",
       "                                                cnt1  \\\n",
       "0  {\"2025582\":1,\"2048310\":2,\"651030\":1,\"1108422\":...   \n",
       "1  {\"38462\":2,\"2048310\":3,\"1108422\":1,\"2025582\":1...   \n",
       "2                                      {\"2025582\":4}   \n",
       "3  {\"304818\":2,\"815630\":1,\"2048310\":4,\"1108422\":1...   \n",
       "4  {\"1184422\":1,\"2048310\":4,\"809001\":1,\"2025582\":...   \n",
       "\n",
       "                                                cnt2 cnt3  data_diff  target  \\\n",
       "0  {\"31297\":1,\"28598\":1,\"504988\":1,\"6498\":1,\"1438...   {}         15       0   \n",
       "1  {\"264772\":2,\"124932\":2,\"31297\":1,\"19791\":1,\"18...   {}         16       0   \n",
       "2  {\"552308\":3,\"186181\":2,\"28598\":4,\"504988\":3,\"1...   {}         17       0   \n",
       "3  {\"124932\":2,\"31297\":1,\"186181\":2,\"14263\":1,\"59...   {}         18       0   \n",
       "4  {\"31297\":1,\"19791\":1,\"186181\":2,\"599535\":2,\"97...   {}         19       0   \n",
       "\n",
       "   int_id  \n",
       "0       0  \n",
       "1       1  \n",
       "2       2  \n",
       "3       3  \n",
       "4       4  "
      ]
     },
     "execution_count": 8,
     "metadata": {},
     "output_type": "execute_result"
    }
   ],
   "source": [
    "train_df['int_id'] = range(len(train_df))\n",
    "train_df.head()"
   ]
  },
  {
   "cell_type": "code",
   "execution_count": 9,
   "metadata": {},
   "outputs": [],
   "source": [
    "train_df['cnt1'] = train_df['cnt1'].apply(lambda x: json.loads(x))"
   ]
  },
  {
   "cell_type": "code",
   "execution_count": 287,
   "metadata": {},
   "outputs": [
    {
     "name": "stderr",
     "output_type": "stream",
     "text": [
      "100%|██████████| 15220/15220 [04:55<00:00, 51.54it/s]\n"
     ]
    }
   ],
   "source": [
    "row_dict = dict()\n",
    "for i in tqdm(train_df['cuid'].unique()):\n",
    "    row_dict[i] = list(train_df[train_df['cuid']==i]['int_id'].values)"
   ]
  },
  {
   "cell_type": "code",
   "execution_count": 288,
   "metadata": {},
   "outputs": [],
   "source": [
    "# Use DictVectorizer\n",
    "dv = DictVectorizer(separator=':')\n",
    "dv_cnt1 = dv.fit_transform(train_df['cnt1'])"
   ]
  },
  {
   "cell_type": "code",
   "execution_count": 289,
   "metadata": {},
   "outputs": [
    {
     "name": "stderr",
     "output_type": "stream",
     "text": [
      "100%|██████████| 15219/15219 [01:01<00:00, 248.05it/s]\n"
     ]
    }
   ],
   "source": [
    "dv_cnt1_group = csr_matrix(np.sum(dv_cnt1[row_dict[list(row_dict.keys())[0]]], axis=0))\n",
    "for i in tqdm(range(1,len(row_dict.keys()))):\n",
    "    dv_cnt1_group = vstack([dv_cnt1_group,csr_matrix(np.sum(dv_cnt1[row_dict[list(row_dict.keys())[i]]], axis=0))])"
   ]
  },
  {
   "cell_type": "code",
   "execution_count": 290,
   "metadata": {},
   "outputs": [],
   "source": [
    "df = pd.DataFrame()\n",
    "df['cuid'] = list(row_dict.keys())\n",
    "df = df.join(train_df.groupby(['cuid'])['cuid','target'].min().set_index('cuid'), on='cuid', how='inner')"
   ]
  },
  {
   "cell_type": "code",
   "execution_count": 291,
   "metadata": {},
   "outputs": [
    {
     "data": {
      "text/html": [
       "<div>\n",
       "<style scoped>\n",
       "    .dataframe tbody tr th:only-of-type {\n",
       "        vertical-align: middle;\n",
       "    }\n",
       "\n",
       "    .dataframe tbody tr th {\n",
       "        vertical-align: top;\n",
       "    }\n",
       "\n",
       "    .dataframe thead th {\n",
       "        text-align: right;\n",
       "    }\n",
       "</style>\n",
       "<table border=\"1\" class=\"dataframe\">\n",
       "  <thead>\n",
       "    <tr style=\"text-align: right;\">\n",
       "      <th></th>\n",
       "      <th>cuid</th>\n",
       "      <th>target</th>\n",
       "    </tr>\n",
       "  </thead>\n",
       "  <tbody>\n",
       "    <tr>\n",
       "      <th>0</th>\n",
       "      <td>d559100ff3cd915d8e83f315f9a8e486</td>\n",
       "      <td>0</td>\n",
       "    </tr>\n",
       "    <tr>\n",
       "      <th>1</th>\n",
       "      <td>d8a827376aeb2a95ca1249674fa41c0e</td>\n",
       "      <td>0</td>\n",
       "    </tr>\n",
       "    <tr>\n",
       "      <th>2</th>\n",
       "      <td>d9bb2787568f8a7b60d0db7ef5bc4b96</td>\n",
       "      <td>0</td>\n",
       "    </tr>\n",
       "    <tr>\n",
       "      <th>3</th>\n",
       "      <td>d4e87b059ad8ec1a77d906e2abb4c564</td>\n",
       "      <td>0</td>\n",
       "    </tr>\n",
       "    <tr>\n",
       "      <th>4</th>\n",
       "      <td>d3d02f1ac1da74ee68be2f1a9139a9af</td>\n",
       "      <td>0</td>\n",
       "    </tr>\n",
       "  </tbody>\n",
       "</table>\n",
       "</div>"
      ],
      "text/plain": [
       "                               cuid  target\n",
       "0  d559100ff3cd915d8e83f315f9a8e486       0\n",
       "1  d8a827376aeb2a95ca1249674fa41c0e       0\n",
       "2  d9bb2787568f8a7b60d0db7ef5bc4b96       0\n",
       "3  d4e87b059ad8ec1a77d906e2abb4c564       0\n",
       "4  d3d02f1ac1da74ee68be2f1a9139a9af       0"
      ]
     },
     "execution_count": 291,
     "metadata": {},
     "output_type": "execute_result"
    }
   ],
   "source": [
    "df.head()"
   ]
  },
  {
   "cell_type": "code",
   "execution_count": 292,
   "metadata": {},
   "outputs": [],
   "source": [
    "X_train, X_test, y_train, y_test = train_test_split(dv_cnt1_group, df.target, test_size=0.2, random_state=17)\n",
    "n = Normalizer()\n",
    "X_train = n.fit_transform(X_train)\n",
    "X_test = n.transform(X_test)"
   ]
  },
  {
   "cell_type": "code",
   "execution_count": 293,
   "metadata": {},
   "outputs": [
    {
     "name": "stdout",
     "output_type": "stream",
     "text": [
      "0.5796496505795112 0.026305534899416727\n",
      "0.578347661870943\n"
     ]
    }
   ],
   "source": [
    "lr = LogisticRegression(penalty='l2', C=1)\n",
    "cv = cross_val_score(lr,X_train, y_train, scoring='roc_auc', cv=5, n_jobs=-1)\n",
    "print (cv.mean(), cv.std())\n",
    "lr.fit(X_train,y_train)\n",
    "pred = lr.predict_proba(X_test)\n",
    "print (roc_auc_score(y_test,pred[:, 1]))"
   ]
  },
  {
   "cell_type": "markdown",
   "metadata": {},
   "source": [
    "** DictVectorizer2 **"
   ]
  },
  {
   "cell_type": "code",
   "execution_count": 2,
   "metadata": {},
   "outputs": [],
   "source": [
    "train_df = pd.read_csv(os.path.join(PATH, 'train_sample.csv'), nrows=200000)\n",
    "train_df = train_df.join(pd.read_csv(os.path.join(PATH,'mlboot_train_answers.tsv'), delimiter='\\t').set_index('cuid'), on='cuid', how='inner')\n",
    "train_df['cnt1'] = train_df['cnt1'].apply(lambda x: x[1:-1]+',' if len(x)>2 else '')\n",
    "train_df['cnt2'] = train_df['cnt2'].apply(lambda x: x[1:-1]+',' if len(x)>2 else '')\n",
    "train_df['cnt3'] = train_df['cnt3'].apply(lambda x: x[1:-1]+',' if len(x)>2 else '')"
   ]
  },
  {
   "cell_type": "code",
   "execution_count": 3,
   "metadata": {},
   "outputs": [
    {
     "data": {
      "text/html": [
       "<div>\n",
       "<style scoped>\n",
       "    .dataframe tbody tr th:only-of-type {\n",
       "        vertical-align: middle;\n",
       "    }\n",
       "\n",
       "    .dataframe tbody tr th {\n",
       "        vertical-align: top;\n",
       "    }\n",
       "\n",
       "    .dataframe thead th {\n",
       "        text-align: right;\n",
       "    }\n",
       "</style>\n",
       "<table border=\"1\" class=\"dataframe\">\n",
       "  <thead>\n",
       "    <tr style=\"text-align: right;\">\n",
       "      <th></th>\n",
       "      <th>cuid</th>\n",
       "      <th>cat</th>\n",
       "      <th>cnt1</th>\n",
       "      <th>cnt2</th>\n",
       "      <th>cnt3</th>\n",
       "      <th>data_diff</th>\n",
       "      <th>target</th>\n",
       "    </tr>\n",
       "  </thead>\n",
       "  <tbody>\n",
       "    <tr>\n",
       "      <th>0</th>\n",
       "      <td>d241d1f6f360965c303a30f8b471b095</td>\n",
       "      <td>1</td>\n",
       "      <td>\"2025582\":1,\"2048310\":2,\"651030\":1,\"1108422\":2...</td>\n",
       "      <td>\"31297\":1,\"28598\":1,\"504988\":1,\"6498\":1,\"14389...</td>\n",
       "      <td></td>\n",
       "      <td>15</td>\n",
       "      <td>0</td>\n",
       "    </tr>\n",
       "    <tr>\n",
       "      <th>1</th>\n",
       "      <td>d241d1f6f360965c303a30f8b471b095</td>\n",
       "      <td>1</td>\n",
       "      <td>\"38462\":2,\"2048310\":3,\"1108422\":1,\"2025582\":1,...</td>\n",
       "      <td>\"264772\":2,\"124932\":2,\"31297\":1,\"19791\":1,\"186...</td>\n",
       "      <td></td>\n",
       "      <td>16</td>\n",
       "      <td>0</td>\n",
       "    </tr>\n",
       "    <tr>\n",
       "      <th>2</th>\n",
       "      <td>d241d1f6f360965c303a30f8b471b095</td>\n",
       "      <td>1</td>\n",
       "      <td>\"2025582\":4,</td>\n",
       "      <td>\"552308\":3,\"186181\":2,\"28598\":4,\"504988\":3,\"14...</td>\n",
       "      <td></td>\n",
       "      <td>17</td>\n",
       "      <td>0</td>\n",
       "    </tr>\n",
       "    <tr>\n",
       "      <th>3</th>\n",
       "      <td>d241d1f6f360965c303a30f8b471b095</td>\n",
       "      <td>1</td>\n",
       "      <td>\"304818\":2,\"815630\":1,\"2048310\":4,\"1108422\":1,...</td>\n",
       "      <td>\"124932\":2,\"31297\":1,\"186181\":2,\"14263\":1,\"599...</td>\n",
       "      <td></td>\n",
       "      <td>18</td>\n",
       "      <td>0</td>\n",
       "    </tr>\n",
       "    <tr>\n",
       "      <th>4</th>\n",
       "      <td>d241d1f6f360965c303a30f8b471b095</td>\n",
       "      <td>1</td>\n",
       "      <td>\"1184422\":1,\"2048310\":4,\"809001\":1,\"2025582\":3...</td>\n",
       "      <td>\"31297\":1,\"19791\":1,\"186181\":2,\"599535\":2,\"978...</td>\n",
       "      <td></td>\n",
       "      <td>19</td>\n",
       "      <td>0</td>\n",
       "    </tr>\n",
       "  </tbody>\n",
       "</table>\n",
       "</div>"
      ],
      "text/plain": [
       "                               cuid  cat  \\\n",
       "0  d241d1f6f360965c303a30f8b471b095    1   \n",
       "1  d241d1f6f360965c303a30f8b471b095    1   \n",
       "2  d241d1f6f360965c303a30f8b471b095    1   \n",
       "3  d241d1f6f360965c303a30f8b471b095    1   \n",
       "4  d241d1f6f360965c303a30f8b471b095    1   \n",
       "\n",
       "                                                cnt1  \\\n",
       "0  \"2025582\":1,\"2048310\":2,\"651030\":1,\"1108422\":2...   \n",
       "1  \"38462\":2,\"2048310\":3,\"1108422\":1,\"2025582\":1,...   \n",
       "2                                       \"2025582\":4,   \n",
       "3  \"304818\":2,\"815630\":1,\"2048310\":4,\"1108422\":1,...   \n",
       "4  \"1184422\":1,\"2048310\":4,\"809001\":1,\"2025582\":3...   \n",
       "\n",
       "                                                cnt2 cnt3  data_diff  target  \n",
       "0  \"31297\":1,\"28598\":1,\"504988\":1,\"6498\":1,\"14389...              15       0  \n",
       "1  \"264772\":2,\"124932\":2,\"31297\":1,\"19791\":1,\"186...              16       0  \n",
       "2  \"552308\":3,\"186181\":2,\"28598\":4,\"504988\":3,\"14...              17       0  \n",
       "3  \"124932\":2,\"31297\":1,\"186181\":2,\"14263\":1,\"599...              18       0  \n",
       "4  \"31297\":1,\"19791\":1,\"186181\":2,\"599535\":2,\"978...              19       0  "
      ]
     },
     "execution_count": 3,
     "metadata": {},
     "output_type": "execute_result"
    }
   ],
   "source": [
    "train_df.head()"
   ]
  },
  {
   "cell_type": "code",
   "execution_count": 4,
   "metadata": {
    "scrolled": true
   },
   "outputs": [],
   "source": [
    "df = pd.DataFrame()\n",
    "df['cuid'] = train_df.groupby(['cuid'])['cuid'].min()\n",
    "df['target'] = train_df.groupby(['cuid'])['target'].min()\n",
    "\n",
    "df['cnt1'] = train_df.groupby(['cuid'])['cnt1'].sum().apply(lambda x: x[:-1] if (len(x)>0 and x[-1]==',') else x)\n",
    "df['cnt1'] = df['cnt1'].apply(lambda x: json.loads('{'+x+'}'))\n",
    "\n",
    "df['cnt2'] = train_df.groupby(['cuid'])['cnt2'].sum().apply(lambda x: x[:-1] if (len(x)>0 and x[-1]==',') else x)\n",
    "df['cnt2'] = df['cnt2'].apply(lambda x: json.loads('{'+x+'}'))\n",
    "\n",
    "df['cnt3'] = train_df.groupby(['cuid'])['cnt3'].sum().apply(lambda x: x[:-1] if (len(x)>0 and x[-1]==',') else x)\n",
    "df['cnt3'] = df['cnt3'].apply(lambda x: json.loads('{'+x+'}'))"
   ]
  },
  {
   "cell_type": "code",
   "execution_count": 5,
   "metadata": {},
   "outputs": [
    {
     "data": {
      "text/html": [
       "<div>\n",
       "<style scoped>\n",
       "    .dataframe tbody tr th:only-of-type {\n",
       "        vertical-align: middle;\n",
       "    }\n",
       "\n",
       "    .dataframe tbody tr th {\n",
       "        vertical-align: top;\n",
       "    }\n",
       "\n",
       "    .dataframe thead th {\n",
       "        text-align: right;\n",
       "    }\n",
       "</style>\n",
       "<table border=\"1\" class=\"dataframe\">\n",
       "  <thead>\n",
       "    <tr style=\"text-align: right;\">\n",
       "      <th></th>\n",
       "      <th>cuid</th>\n",
       "      <th>target</th>\n",
       "      <th>cnt1</th>\n",
       "      <th>cnt2</th>\n",
       "      <th>cnt3</th>\n",
       "    </tr>\n",
       "    <tr>\n",
       "      <th>cuid</th>\n",
       "      <th></th>\n",
       "      <th></th>\n",
       "      <th></th>\n",
       "      <th></th>\n",
       "      <th></th>\n",
       "    </tr>\n",
       "  </thead>\n",
       "  <tbody>\n",
       "    <tr>\n",
       "      <th>d241d1f6f360965c303a30f8b471b095</th>\n",
       "      <td>d241d1f6f360965c303a30f8b471b095</td>\n",
       "      <td>0</td>\n",
       "      <td>{u'911052': 1, u'1680022': 1, u'1610623': 1, u...</td>\n",
       "      <td>{u'20447': 1, u'20914': 1, u'48447': 1, u'2933...</td>\n",
       "      <td>{}</td>\n",
       "    </tr>\n",
       "    <tr>\n",
       "      <th>d2422273015f17d3b0323794d72267af</th>\n",
       "      <td>d2422273015f17d3b0323794d72267af</td>\n",
       "      <td>0</td>\n",
       "      <td>{u'747319': 1, u'1633230': 1, u'292387': 1, u'...</td>\n",
       "      <td>{u'217672': 1, u'131444': 1, u'102722': 1, u'1...</td>\n",
       "      <td>{u'644856': 1, u'426842': 1, u'595423': 1, u'3...</td>\n",
       "    </tr>\n",
       "    <tr>\n",
       "      <th>d24229997aaa398a23a50327b780ee1a</th>\n",
       "      <td>d24229997aaa398a23a50327b780ee1a</td>\n",
       "      <td>0</td>\n",
       "      <td>{u'483271': 1, u'103705': 1, u'809001': 1, u'7...</td>\n",
       "      <td>{u'104481': 1, u'7938': 1, u'44187': 1, u'3032...</td>\n",
       "      <td>{}</td>\n",
       "    </tr>\n",
       "    <tr>\n",
       "      <th>d24237114486ca83116b146e7cd2aa9f</th>\n",
       "      <td>d24237114486ca83116b146e7cd2aa9f</td>\n",
       "      <td>0</td>\n",
       "      <td>{u'741147': 1, u'1829710': 1, u'1489844': 1, u...</td>\n",
       "      <td>{u'38671': 2, u'1866': 2, u'13736': 1, u'11767...</td>\n",
       "      <td>{u'932673': 4, u'941437': 2, u'852719': 1, u'8...</td>\n",
       "    </tr>\n",
       "    <tr>\n",
       "      <th>d242667ee758a8974dae6d1bda7bfae6</th>\n",
       "      <td>d242667ee758a8974dae6d1bda7bfae6</td>\n",
       "      <td>1</td>\n",
       "      <td>{u'329362': 1, u'1849384': 1, u'20677': 1, u'1...</td>\n",
       "      <td>{u'7817': 1, u'60981': 1, u'74065': 2, u'42876...</td>\n",
       "      <td>{u'818712': 1, u'827802': 1, u'50857': 2, u'41...</td>\n",
       "    </tr>\n",
       "  </tbody>\n",
       "</table>\n",
       "</div>"
      ],
      "text/plain": [
       "                                                              cuid  target  \\\n",
       "cuid                                                                         \n",
       "d241d1f6f360965c303a30f8b471b095  d241d1f6f360965c303a30f8b471b095       0   \n",
       "d2422273015f17d3b0323794d72267af  d2422273015f17d3b0323794d72267af       0   \n",
       "d24229997aaa398a23a50327b780ee1a  d24229997aaa398a23a50327b780ee1a       0   \n",
       "d24237114486ca83116b146e7cd2aa9f  d24237114486ca83116b146e7cd2aa9f       0   \n",
       "d242667ee758a8974dae6d1bda7bfae6  d242667ee758a8974dae6d1bda7bfae6       1   \n",
       "\n",
       "                                                                               cnt1  \\\n",
       "cuid                                                                                  \n",
       "d241d1f6f360965c303a30f8b471b095  {u'911052': 1, u'1680022': 1, u'1610623': 1, u...   \n",
       "d2422273015f17d3b0323794d72267af  {u'747319': 1, u'1633230': 1, u'292387': 1, u'...   \n",
       "d24229997aaa398a23a50327b780ee1a  {u'483271': 1, u'103705': 1, u'809001': 1, u'7...   \n",
       "d24237114486ca83116b146e7cd2aa9f  {u'741147': 1, u'1829710': 1, u'1489844': 1, u...   \n",
       "d242667ee758a8974dae6d1bda7bfae6  {u'329362': 1, u'1849384': 1, u'20677': 1, u'1...   \n",
       "\n",
       "                                                                               cnt2  \\\n",
       "cuid                                                                                  \n",
       "d241d1f6f360965c303a30f8b471b095  {u'20447': 1, u'20914': 1, u'48447': 1, u'2933...   \n",
       "d2422273015f17d3b0323794d72267af  {u'217672': 1, u'131444': 1, u'102722': 1, u'1...   \n",
       "d24229997aaa398a23a50327b780ee1a  {u'104481': 1, u'7938': 1, u'44187': 1, u'3032...   \n",
       "d24237114486ca83116b146e7cd2aa9f  {u'38671': 2, u'1866': 2, u'13736': 1, u'11767...   \n",
       "d242667ee758a8974dae6d1bda7bfae6  {u'7817': 1, u'60981': 1, u'74065': 2, u'42876...   \n",
       "\n",
       "                                                                               cnt3  \n",
       "cuid                                                                                 \n",
       "d241d1f6f360965c303a30f8b471b095                                                 {}  \n",
       "d2422273015f17d3b0323794d72267af  {u'644856': 1, u'426842': 1, u'595423': 1, u'3...  \n",
       "d24229997aaa398a23a50327b780ee1a                                                 {}  \n",
       "d24237114486ca83116b146e7cd2aa9f  {u'932673': 4, u'941437': 2, u'852719': 1, u'8...  \n",
       "d242667ee758a8974dae6d1bda7bfae6  {u'818712': 1, u'827802': 1, u'50857': 2, u'41...  "
      ]
     },
     "execution_count": 5,
     "metadata": {},
     "output_type": "execute_result"
    }
   ],
   "source": [
    "df.head()"
   ]
  },
  {
   "cell_type": "code",
   "execution_count": 29,
   "metadata": {},
   "outputs": [],
   "source": [
    "dv = DictVectorizer(separator=':')\n",
    "dv_cnt1 = dv.fit_transform(df['cnt1'])\n",
    "dv_cnt2 = dv.fit_transform(df['cnt2'])\n",
    "dv_cnt3 = dv.fit_transform(df['cnt3'])"
   ]
  },
  {
   "cell_type": "code",
   "execution_count": 7,
   "metadata": {},
   "outputs": [],
   "source": [
    "X_train, X_test, y_train, y_test = train_test_split(hstack([dv_cnt1,dv_cnt2,dv_cnt3]), df.target, test_size=0.2, random_state=17)\n",
    "n = Normalizer()\n",
    "X_train = n.fit_transform(X_train)\n",
    "X_test = n.transform(X_test)"
   ]
  },
  {
   "cell_type": "code",
   "execution_count": 8,
   "metadata": {},
   "outputs": [
    {
     "name": "stdout",
     "output_type": "stream",
     "text": [
      "(0.6258443216095808, 0.06082239722682662)\n",
      "0.5751957519575195\n"
     ]
    }
   ],
   "source": [
    "lr = LogisticRegression(penalty='l2', C=1)\n",
    "cv = cross_val_score(lr,X_train, y_train, scoring='roc_auc', cv=5, n_jobs=-1)\n",
    "print (cv.mean(), cv.std())\n",
    "lr.fit(X_train,y_train)\n",
    "pred = lr.predict_proba(X_test)\n",
    "print (roc_auc_score(y_test,pred[:, 1]))"
   ]
  },
  {
   "cell_type": "code",
   "execution_count": 9,
   "metadata": {},
   "outputs": [
    {
     "data": {
      "text/plain": [
       "(3413, 173325)"
      ]
     },
     "execution_count": 9,
     "metadata": {},
     "output_type": "execute_result"
    }
   ],
   "source": [
    "X_train.shape"
   ]
  },
  {
   "cell_type": "code",
   "execution_count": 10,
   "metadata": {},
   "outputs": [],
   "source": [
    "#SVD\n",
    "from sklearn.decomposition import TruncatedSVD\n",
    "from scipy import sparse as sp"
   ]
  },
  {
   "cell_type": "code",
   "execution_count": 30,
   "metadata": {},
   "outputs": [],
   "source": [
    "svd = TruncatedSVD(n_components=100, random_state=17, n_iter=5)\n",
    "dv_cnt1 = svd.fit_transform(dv_cnt1)\n",
    "dv_cnt2 = svd.fit_transform(dv_cnt2)\n",
    "dv_cnt3 = svd.fit_transform(dv_cnt3)"
   ]
  },
  {
   "cell_type": "code",
   "execution_count": 35,
   "metadata": {},
   "outputs": [],
   "source": [
    "X_train, X_test, y_train, y_test = train_test_split(np.hstack([dv_cnt1,dv_cnt2,dv_cnt3]), df.target, test_size=0.2, random_state=17)\n",
    "n = Normalizer()\n",
    "X_train = n.fit_transform(X_train)\n",
    "X_test = n.transform(X_test)"
   ]
  },
  {
   "cell_type": "code",
   "execution_count": 36,
   "metadata": {},
   "outputs": [
    {
     "name": "stdout",
     "output_type": "stream",
     "text": [
      "(0.622330957284063, 0.05187117952752747)\n",
      "0.6175261752617526\n"
     ]
    }
   ],
   "source": [
    "lr = LogisticRegression(penalty='l2', C=1)\n",
    "cv = cross_val_score(lr,X_train, y_train, scoring='roc_auc', cv=5, n_jobs=-1)\n",
    "print (cv.mean(), cv.std())\n",
    "lr.fit(X_train,y_train)\n",
    "pred = lr.predict_proba(X_test)\n",
    "print (roc_auc_score(y_test,pred[:, 1]))"
   ]
  },
  {
   "cell_type": "code",
   "execution_count": null,
   "metadata": {},
   "outputs": [],
   "source": []
  }
 ],
 "metadata": {
  "kernelspec": {
   "display_name": "Python 2",
   "language": "python",
   "name": "python2"
  },
  "language_info": {
   "codemirror_mode": {
    "name": "ipython",
    "version": 2
   },
   "file_extension": ".py",
   "mimetype": "text/x-python",
   "name": "python",
   "nbconvert_exporter": "python",
   "pygments_lexer": "ipython2",
   "version": "2.7.13"
  }
 },
 "nbformat": 4,
 "nbformat_minor": 2
}
